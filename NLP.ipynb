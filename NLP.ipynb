{
  "nbformat": 4,
  "nbformat_minor": 0,
  "metadata": {
    "colab": {
      "provenance": []
    },
    "kernelspec": {
      "name": "python3",
      "display_name": "Python 3"
    },
    "language_info": {
      "name": "python"
    }
  },
  "cells": [
    {
      "cell_type": "code",
      "execution_count": 1,
      "metadata": {
        "id": "cc4_vC5ipJnd"
      },
      "outputs": [],
      "source": [
        "import re\n",
        "\n",
        "from collections import Counter\n",
        "\n",
        "import numpy as np\n",
        "import pandas as pd\n",
        "from tensorflow.keras.preprocessing.text import Tokenizer\n",
        "from tensorflow.keras.models import Sequential\n",
        "from tensorflow.keras.layers import Embedding, Dense, SimpleRNN, Input, LSTM, GRU\n",
        "\n",
        "\n",
        "from keras_preprocessing.sequence import pad_sequences"
      ]
    },
    {
      "cell_type": "code",
      "source": [
        "!git clone https://github.com/Terkingil/Project_NLP.git"
      ],
      "metadata": {
        "colab": {
          "base_uri": "https://localhost:8080/"
        },
        "id": "LC6Q1umd8r3j",
        "outputId": "55a87c54-8a77-417e-db76-fcba0d73e57b"
      },
      "execution_count": 51,
      "outputs": [
        {
          "output_type": "stream",
          "name": "stdout",
          "text": [
            "Cloning into 'Project_NLP'...\n",
            "remote: Enumerating objects: 183, done.\u001b[K\n",
            "remote: Counting objects: 100% (117/117), done.\u001b[K\n",
            "remote: Compressing objects: 100% (77/77), done.\u001b[K\n",
            "remote: Total 183 (delta 46), reused 85 (delta 34), pack-reused 66\u001b[K\n",
            "Receiving objects: 100% (183/183), 67.95 MiB | 25.73 MiB/s, done.\n",
            "Resolving deltas: 100% (67/67), done.\n"
          ]
        }
      ]
    },
    {
      "cell_type": "code",
      "source": [
        "#from google.colab import files\n",
        " \n",
        " \n",
        "#uploaded = files.upload()\n"
      ],
      "metadata": {
        "id": "TpjWBHwoqltD"
      },
      "execution_count": 3,
      "outputs": []
    },
    {
      "cell_type": "markdown",
      "source": [
        "#Инициализация моделей"
      ],
      "metadata": {
        "id": "WS8QxEMNP3b2"
      }
    },
    {
      "cell_type": "markdown",
      "source": [
        "## Name_model - модель для отделения имен от абракадабры"
      ],
      "metadata": {
        "id": "w3IgvoewYSCy"
      }
    },
    {
      "cell_type": "code",
      "source": [
        "#model\n",
        "\n",
        "Name_model=Sequential()\n",
        "Name_model.add(Embedding(63,15,input_length=15))\n",
        "Name_model.add(LSTM(500, activation='tanh'))\n",
        "Name_model.add(Dense(1, activation='sigmoid'))\n",
        "Name_model.summary()\n",
        "\n",
        "Name_model.compile(loss='binary_crossentropy', metrics=[\"AUC\"])"
      ],
      "metadata": {
        "colab": {
          "base_uri": "https://localhost:8080/"
        },
        "id": "--NFnF3sgsq5",
        "outputId": "07124ee6-f2a6-4552-f417-3f8265d945c9"
      },
      "execution_count": 4,
      "outputs": [
        {
          "output_type": "stream",
          "name": "stdout",
          "text": [
            "Model: \"sequential\"\n",
            "_________________________________________________________________\n",
            " Layer (type)                Output Shape              Param #   \n",
            "=================================================================\n",
            " embedding (Embedding)       (None, 15, 15)            945       \n",
            "                                                                 \n",
            " lstm (LSTM)                 (None, 500)               1032000   \n",
            "                                                                 \n",
            " dense (Dense)               (None, 1)                 501       \n",
            "                                                                 \n",
            "=================================================================\n",
            "Total params: 1,033,446\n",
            "Trainable params: 1,033,446\n",
            "Non-trainable params: 0\n",
            "_________________________________________________________________\n"
          ]
        }
      ]
    },
    {
      "cell_type": "markdown",
      "source": [
        "Tokenize"
      ],
      "metadata": {
        "id": "yW2CNjUtKPN-"
      }
    },
    {
      "cell_type": "code",
      "source": [
        "data=pd.read_csv(\"https://raw.githubusercontent.com/Terkingil/Project_NLP/main/Models%20weights%20n%20data/Name%20model%20weights/Name%20or%20abra.csv\")\n",
        "display(data)"
      ],
      "metadata": {
        "colab": {
          "base_uri": "https://localhost:8080/",
          "height": 424
        },
        "id": "1XgCcvAvKYWc",
        "outputId": "fa551ae2-b461-4609-a7b5-dfea2ea3e2aa"
      },
      "execution_count": 7,
      "outputs": [
        {
          "output_type": "display_data",
          "data": {
            "text/plain": [
              "         Name  Abra\n",
              "0       Damir   1.0\n",
              "1     Maryana   1.0\n",
              "2       Roman   1.0\n",
              "3      Kirill   1.0\n",
              "4        Egor   1.0\n",
              "..        ...   ...\n",
              "195    Filipp   1.0\n",
              "196   Yuliana   1.0\n",
              "197  Veronika   1.0\n",
              "198      adad   0.0\n",
              "199     Pyotr   1.0\n",
              "\n",
              "[200 rows x 2 columns]"
            ],
            "text/html": [
              "\n",
              "  <div id=\"df-93a5f6a8-0b61-42b7-90e6-542050c051c4\">\n",
              "    <div class=\"colab-df-container\">\n",
              "      <div>\n",
              "<style scoped>\n",
              "    .dataframe tbody tr th:only-of-type {\n",
              "        vertical-align: middle;\n",
              "    }\n",
              "\n",
              "    .dataframe tbody tr th {\n",
              "        vertical-align: top;\n",
              "    }\n",
              "\n",
              "    .dataframe thead th {\n",
              "        text-align: right;\n",
              "    }\n",
              "</style>\n",
              "<table border=\"1\" class=\"dataframe\">\n",
              "  <thead>\n",
              "    <tr style=\"text-align: right;\">\n",
              "      <th></th>\n",
              "      <th>Name</th>\n",
              "      <th>Abra</th>\n",
              "    </tr>\n",
              "  </thead>\n",
              "  <tbody>\n",
              "    <tr>\n",
              "      <th>0</th>\n",
              "      <td>Damir</td>\n",
              "      <td>1.0</td>\n",
              "    </tr>\n",
              "    <tr>\n",
              "      <th>1</th>\n",
              "      <td>Maryana</td>\n",
              "      <td>1.0</td>\n",
              "    </tr>\n",
              "    <tr>\n",
              "      <th>2</th>\n",
              "      <td>Roman</td>\n",
              "      <td>1.0</td>\n",
              "    </tr>\n",
              "    <tr>\n",
              "      <th>3</th>\n",
              "      <td>Kirill</td>\n",
              "      <td>1.0</td>\n",
              "    </tr>\n",
              "    <tr>\n",
              "      <th>4</th>\n",
              "      <td>Egor</td>\n",
              "      <td>1.0</td>\n",
              "    </tr>\n",
              "    <tr>\n",
              "      <th>...</th>\n",
              "      <td>...</td>\n",
              "      <td>...</td>\n",
              "    </tr>\n",
              "    <tr>\n",
              "      <th>195</th>\n",
              "      <td>Filipp</td>\n",
              "      <td>1.0</td>\n",
              "    </tr>\n",
              "    <tr>\n",
              "      <th>196</th>\n",
              "      <td>Yuliana</td>\n",
              "      <td>1.0</td>\n",
              "    </tr>\n",
              "    <tr>\n",
              "      <th>197</th>\n",
              "      <td>Veronika</td>\n",
              "      <td>1.0</td>\n",
              "    </tr>\n",
              "    <tr>\n",
              "      <th>198</th>\n",
              "      <td>adad</td>\n",
              "      <td>0.0</td>\n",
              "    </tr>\n",
              "    <tr>\n",
              "      <th>199</th>\n",
              "      <td>Pyotr</td>\n",
              "      <td>1.0</td>\n",
              "    </tr>\n",
              "  </tbody>\n",
              "</table>\n",
              "<p>200 rows × 2 columns</p>\n",
              "</div>\n",
              "      <button class=\"colab-df-convert\" onclick=\"convertToInteractive('df-93a5f6a8-0b61-42b7-90e6-542050c051c4')\"\n",
              "              title=\"Convert this dataframe to an interactive table.\"\n",
              "              style=\"display:none;\">\n",
              "        \n",
              "  <svg xmlns=\"http://www.w3.org/2000/svg\" height=\"24px\"viewBox=\"0 0 24 24\"\n",
              "       width=\"24px\">\n",
              "    <path d=\"M0 0h24v24H0V0z\" fill=\"none\"/>\n",
              "    <path d=\"M18.56 5.44l.94 2.06.94-2.06 2.06-.94-2.06-.94-.94-2.06-.94 2.06-2.06.94zm-11 1L8.5 8.5l.94-2.06 2.06-.94-2.06-.94L8.5 2.5l-.94 2.06-2.06.94zm10 10l.94 2.06.94-2.06 2.06-.94-2.06-.94-.94-2.06-.94 2.06-2.06.94z\"/><path d=\"M17.41 7.96l-1.37-1.37c-.4-.4-.92-.59-1.43-.59-.52 0-1.04.2-1.43.59L10.3 9.45l-7.72 7.72c-.78.78-.78 2.05 0 2.83L4 21.41c.39.39.9.59 1.41.59.51 0 1.02-.2 1.41-.59l7.78-7.78 2.81-2.81c.8-.78.8-2.07 0-2.86zM5.41 20L4 18.59l7.72-7.72 1.47 1.35L5.41 20z\"/>\n",
              "  </svg>\n",
              "      </button>\n",
              "      \n",
              "  <style>\n",
              "    .colab-df-container {\n",
              "      display:flex;\n",
              "      flex-wrap:wrap;\n",
              "      gap: 12px;\n",
              "    }\n",
              "\n",
              "    .colab-df-convert {\n",
              "      background-color: #E8F0FE;\n",
              "      border: none;\n",
              "      border-radius: 50%;\n",
              "      cursor: pointer;\n",
              "      display: none;\n",
              "      fill: #1967D2;\n",
              "      height: 32px;\n",
              "      padding: 0 0 0 0;\n",
              "      width: 32px;\n",
              "    }\n",
              "\n",
              "    .colab-df-convert:hover {\n",
              "      background-color: #E2EBFA;\n",
              "      box-shadow: 0px 1px 2px rgba(60, 64, 67, 0.3), 0px 1px 3px 1px rgba(60, 64, 67, 0.15);\n",
              "      fill: #174EA6;\n",
              "    }\n",
              "\n",
              "    [theme=dark] .colab-df-convert {\n",
              "      background-color: #3B4455;\n",
              "      fill: #D2E3FC;\n",
              "    }\n",
              "\n",
              "    [theme=dark] .colab-df-convert:hover {\n",
              "      background-color: #434B5C;\n",
              "      box-shadow: 0px 1px 3px 1px rgba(0, 0, 0, 0.15);\n",
              "      filter: drop-shadow(0px 1px 2px rgba(0, 0, 0, 0.3));\n",
              "      fill: #FFFFFF;\n",
              "    }\n",
              "  </style>\n",
              "\n",
              "      <script>\n",
              "        const buttonEl =\n",
              "          document.querySelector('#df-93a5f6a8-0b61-42b7-90e6-542050c051c4 button.colab-df-convert');\n",
              "        buttonEl.style.display =\n",
              "          google.colab.kernel.accessAllowed ? 'block' : 'none';\n",
              "\n",
              "        async function convertToInteractive(key) {\n",
              "          const element = document.querySelector('#df-93a5f6a8-0b61-42b7-90e6-542050c051c4');\n",
              "          const dataTable =\n",
              "            await google.colab.kernel.invokeFunction('convertToInteractive',\n",
              "                                                     [key], {});\n",
              "          if (!dataTable) return;\n",
              "\n",
              "          const docLinkHtml = 'Like what you see? Visit the ' +\n",
              "            '<a target=\"_blank\" href=https://colab.research.google.com/notebooks/data_table.ipynb>data table notebook</a>'\n",
              "            + ' to learn more about interactive tables.';\n",
              "          element.innerHTML = '';\n",
              "          dataTable['output_type'] = 'display_data';\n",
              "          await google.colab.output.renderOutput(dataTable, element);\n",
              "          const docLink = document.createElement('div');\n",
              "          docLink.innerHTML = docLinkHtml;\n",
              "          element.appendChild(docLink);\n",
              "        }\n",
              "      </script>\n",
              "    </div>\n",
              "  </div>\n",
              "  "
            ]
          },
          "metadata": {}
        }
      ]
    },
    {
      "cell_type": "code",
      "source": [
        "#tokenize\n",
        "\n",
        "cdt_N=np.array(data.iloc[:,0])\n",
        "\n",
        "num_char = 63\n",
        "n_tokenizer=Tokenizer(num_words=num_char, lower=False,char_level=True,filters=\"'!#$%&()*+,./:;<=>?@[\\\\]^_`{|}~\\t\\n'\")\n",
        "n_tokenizer.fit_on_texts(cdt_N)\n",
        "print(n_tokenizer.word_index)\n",
        "\n",
        "inp_chars = 3\n",
        "one_hot_enc=n_tokenizer.texts_to_sequences(cdt_N)"
      ],
      "metadata": {
        "colab": {
          "base_uri": "https://localhost:8080/"
        },
        "id": "VKkKDEgJKFLF",
        "outputId": "4faf43a4-eb6a-4ce7-cae7-496b38e6225c"
      },
      "execution_count": 9,
      "outputs": [
        {
          "output_type": "stream",
          "name": "stdout",
          "text": [
            "{'a': 1, 'i': 2, 's': 3, 'o': 4, 'd': 5, 'k': 6, 'r': 7, 'l': 8, 'p': 9, 'e': 10, 'n': 11, 'A': 12, 'j': 13, 'f': 14, 'y': 15, 't': 16, 'm': 17, 'S': 18, 'q': 19, 'v': 20, 'u': 21, '[': 22, 'D': 23, '3': 24, 'M': 25, '2': 26, 'V': 27, 'z': 28, 'g': 29, '1': 30, 'w': 31, 'E': 32, ';': 33, 'h': 34, 'K': 35, 'P': 36, '4': 37, \"'\": 38, 'U': 39, 'N': 40, 'I': 41, 'O': 42, 'L': 43, 'B': 44, 'x': 45, '/': 46, 'T': 47, 'Y': 48, 'R': 49, 'b': 50, 'J': 51, 'F': 52, 'W': 53, 'G': 54, ' ': 55, 'H': 56, 'Z': 57, '\\\\': 58, 'c': 59, '9': 60}\n"
          ]
        }
      ]
    },
    {
      "cell_type": "code",
      "source": [
        "Name_model.load_weights('/content/Project_NLP/Models weights n data/Name model weights/weights')"
      ],
      "metadata": {
        "colab": {
          "base_uri": "https://localhost:8080/"
        },
        "id": "cIS-NB5VKjGU",
        "outputId": "7da6280e-6cbf-4808-e6a9-3edefff8e621"
      },
      "execution_count": 10,
      "outputs": [
        {
          "output_type": "execute_result",
          "data": {
            "text/plain": [
              "<tensorflow.python.training.tracking.util.CheckpointLoadStatus at 0x7f4eafa23e50>"
            ]
          },
          "metadata": {},
          "execution_count": 10
        }
      ]
    },
    {
      "cell_type": "markdown",
      "source": [
        "## S_C_model - модель для отделения городов и фамлий от абракадабры"
      ],
      "metadata": {
        "id": "DLZDLa3Ko65i"
      }
    },
    {
      "cell_type": "code",
      "source": [
        "S_C_model=Sequential()\n",
        "S_C_model.add(Embedding(63,15,input_length=15))\n",
        "S_C_model.add(GRU(500, activation='tanh'))\n",
        "S_C_model.add(Dense(1, activation='sigmoid'))#Полносвязный слой\n",
        "S_C_model.summary()\n",
        "\n",
        "S_C_model.compile(loss='binary_crossentropy', metrics=[\"AUC\"])"
      ],
      "metadata": {
        "colab": {
          "base_uri": "https://localhost:8080/"
        },
        "id": "BGZNjbrNhJR0",
        "outputId": "ac41b86c-7c1e-4ead-8fed-c01f697df37c"
      },
      "execution_count": 5,
      "outputs": [
        {
          "output_type": "stream",
          "name": "stdout",
          "text": [
            "Model: \"sequential_1\"\n",
            "_________________________________________________________________\n",
            " Layer (type)                Output Shape              Param #   \n",
            "=================================================================\n",
            " embedding_1 (Embedding)     (None, 15, 15)            945       \n",
            "                                                                 \n",
            " gru (GRU)                   (None, 500)               775500    \n",
            "                                                                 \n",
            " dense_1 (Dense)             (None, 1)                 501       \n",
            "                                                                 \n",
            "=================================================================\n",
            "Total params: 776,946\n",
            "Trainable params: 776,946\n",
            "Non-trainable params: 0\n",
            "_________________________________________________________________\n"
          ]
        }
      ]
    },
    {
      "cell_type": "code",
      "source": [
        "S_C_model.load_weights('/content/Project_NLP/Models weights n data/S_C_model/S_C_weights')"
      ],
      "metadata": {
        "id": "WrGdXPT_x1Nv",
        "colab": {
          "base_uri": "https://localhost:8080/"
        },
        "outputId": "ec57f632-375a-4945-be0b-181b33e8bd59"
      },
      "execution_count": 11,
      "outputs": [
        {
          "output_type": "execute_result",
          "data": {
            "text/plain": [
              "<tensorflow.python.training.tracking.util.CheckpointLoadStatus at 0x7f4eaf579150>"
            ]
          },
          "metadata": {},
          "execution_count": 11
        }
      ]
    },
    {
      "cell_type": "markdown",
      "source": [
        "Tokenize"
      ],
      "metadata": {
        "id": "XcMjJ1tYpk_9"
      }
    },
    {
      "cell_type": "code",
      "source": [
        "data=pd.read_csv(\"https://raw.githubusercontent.com/Terkingil/Project_NLP/main/Models%20weights%20n%20data/S_C_model/NE%20or%20abra.csv\")\n",
        "display(data)"
      ],
      "metadata": {
        "colab": {
          "base_uri": "https://localhost:8080/",
          "height": 424
        },
        "id": "wen-qjwdp5e1",
        "outputId": "b5edd095-aa91-43af-bdf2-f7389984a0f7"
      },
      "execution_count": 14,
      "outputs": [
        {
          "output_type": "display_data",
          "data": {
            "text/plain": [
              "           Name  Label\n",
              "0          erer    0.0\n",
              "1        Moscow    1.0\n",
              "2          13op    0.0\n",
              "3         Ilina    1.0\n",
              "4        Tyumen    1.0\n",
              "..          ...    ...\n",
              "384     Serdyuk    1.0\n",
              "385   Temchenko    1.0\n",
              "386      Hitruk    1.0\n",
              "387  Emelyanova    1.0\n",
              "388     Taranec    1.0\n",
              "\n",
              "[389 rows x 2 columns]"
            ],
            "text/html": [
              "\n",
              "  <div id=\"df-6ba75766-0d41-4626-a132-06073e4be51a\">\n",
              "    <div class=\"colab-df-container\">\n",
              "      <div>\n",
              "<style scoped>\n",
              "    .dataframe tbody tr th:only-of-type {\n",
              "        vertical-align: middle;\n",
              "    }\n",
              "\n",
              "    .dataframe tbody tr th {\n",
              "        vertical-align: top;\n",
              "    }\n",
              "\n",
              "    .dataframe thead th {\n",
              "        text-align: right;\n",
              "    }\n",
              "</style>\n",
              "<table border=\"1\" class=\"dataframe\">\n",
              "  <thead>\n",
              "    <tr style=\"text-align: right;\">\n",
              "      <th></th>\n",
              "      <th>Name</th>\n",
              "      <th>Label</th>\n",
              "    </tr>\n",
              "  </thead>\n",
              "  <tbody>\n",
              "    <tr>\n",
              "      <th>0</th>\n",
              "      <td>erer</td>\n",
              "      <td>0.0</td>\n",
              "    </tr>\n",
              "    <tr>\n",
              "      <th>1</th>\n",
              "      <td>Moscow</td>\n",
              "      <td>1.0</td>\n",
              "    </tr>\n",
              "    <tr>\n",
              "      <th>2</th>\n",
              "      <td>13op</td>\n",
              "      <td>0.0</td>\n",
              "    </tr>\n",
              "    <tr>\n",
              "      <th>3</th>\n",
              "      <td>Ilina</td>\n",
              "      <td>1.0</td>\n",
              "    </tr>\n",
              "    <tr>\n",
              "      <th>4</th>\n",
              "      <td>Tyumen</td>\n",
              "      <td>1.0</td>\n",
              "    </tr>\n",
              "    <tr>\n",
              "      <th>...</th>\n",
              "      <td>...</td>\n",
              "      <td>...</td>\n",
              "    </tr>\n",
              "    <tr>\n",
              "      <th>384</th>\n",
              "      <td>Serdyuk</td>\n",
              "      <td>1.0</td>\n",
              "    </tr>\n",
              "    <tr>\n",
              "      <th>385</th>\n",
              "      <td>Temchenko</td>\n",
              "      <td>1.0</td>\n",
              "    </tr>\n",
              "    <tr>\n",
              "      <th>386</th>\n",
              "      <td>Hitruk</td>\n",
              "      <td>1.0</td>\n",
              "    </tr>\n",
              "    <tr>\n",
              "      <th>387</th>\n",
              "      <td>Emelyanova</td>\n",
              "      <td>1.0</td>\n",
              "    </tr>\n",
              "    <tr>\n",
              "      <th>388</th>\n",
              "      <td>Taranec</td>\n",
              "      <td>1.0</td>\n",
              "    </tr>\n",
              "  </tbody>\n",
              "</table>\n",
              "<p>389 rows × 2 columns</p>\n",
              "</div>\n",
              "      <button class=\"colab-df-convert\" onclick=\"convertToInteractive('df-6ba75766-0d41-4626-a132-06073e4be51a')\"\n",
              "              title=\"Convert this dataframe to an interactive table.\"\n",
              "              style=\"display:none;\">\n",
              "        \n",
              "  <svg xmlns=\"http://www.w3.org/2000/svg\" height=\"24px\"viewBox=\"0 0 24 24\"\n",
              "       width=\"24px\">\n",
              "    <path d=\"M0 0h24v24H0V0z\" fill=\"none\"/>\n",
              "    <path d=\"M18.56 5.44l.94 2.06.94-2.06 2.06-.94-2.06-.94-.94-2.06-.94 2.06-2.06.94zm-11 1L8.5 8.5l.94-2.06 2.06-.94-2.06-.94L8.5 2.5l-.94 2.06-2.06.94zm10 10l.94 2.06.94-2.06 2.06-.94-2.06-.94-.94-2.06-.94 2.06-2.06.94z\"/><path d=\"M17.41 7.96l-1.37-1.37c-.4-.4-.92-.59-1.43-.59-.52 0-1.04.2-1.43.59L10.3 9.45l-7.72 7.72c-.78.78-.78 2.05 0 2.83L4 21.41c.39.39.9.59 1.41.59.51 0 1.02-.2 1.41-.59l7.78-7.78 2.81-2.81c.8-.78.8-2.07 0-2.86zM5.41 20L4 18.59l7.72-7.72 1.47 1.35L5.41 20z\"/>\n",
              "  </svg>\n",
              "      </button>\n",
              "      \n",
              "  <style>\n",
              "    .colab-df-container {\n",
              "      display:flex;\n",
              "      flex-wrap:wrap;\n",
              "      gap: 12px;\n",
              "    }\n",
              "\n",
              "    .colab-df-convert {\n",
              "      background-color: #E8F0FE;\n",
              "      border: none;\n",
              "      border-radius: 50%;\n",
              "      cursor: pointer;\n",
              "      display: none;\n",
              "      fill: #1967D2;\n",
              "      height: 32px;\n",
              "      padding: 0 0 0 0;\n",
              "      width: 32px;\n",
              "    }\n",
              "\n",
              "    .colab-df-convert:hover {\n",
              "      background-color: #E2EBFA;\n",
              "      box-shadow: 0px 1px 2px rgba(60, 64, 67, 0.3), 0px 1px 3px 1px rgba(60, 64, 67, 0.15);\n",
              "      fill: #174EA6;\n",
              "    }\n",
              "\n",
              "    [theme=dark] .colab-df-convert {\n",
              "      background-color: #3B4455;\n",
              "      fill: #D2E3FC;\n",
              "    }\n",
              "\n",
              "    [theme=dark] .colab-df-convert:hover {\n",
              "      background-color: #434B5C;\n",
              "      box-shadow: 0px 1px 3px 1px rgba(0, 0, 0, 0.15);\n",
              "      filter: drop-shadow(0px 1px 2px rgba(0, 0, 0, 0.3));\n",
              "      fill: #FFFFFF;\n",
              "    }\n",
              "  </style>\n",
              "\n",
              "      <script>\n",
              "        const buttonEl =\n",
              "          document.querySelector('#df-6ba75766-0d41-4626-a132-06073e4be51a button.colab-df-convert');\n",
              "        buttonEl.style.display =\n",
              "          google.colab.kernel.accessAllowed ? 'block' : 'none';\n",
              "\n",
              "        async function convertToInteractive(key) {\n",
              "          const element = document.querySelector('#df-6ba75766-0d41-4626-a132-06073e4be51a');\n",
              "          const dataTable =\n",
              "            await google.colab.kernel.invokeFunction('convertToInteractive',\n",
              "                                                     [key], {});\n",
              "          if (!dataTable) return;\n",
              "\n",
              "          const docLinkHtml = 'Like what you see? Visit the ' +\n",
              "            '<a target=\"_blank\" href=https://colab.research.google.com/notebooks/data_table.ipynb>data table notebook</a>'\n",
              "            + ' to learn more about interactive tables.';\n",
              "          element.innerHTML = '';\n",
              "          dataTable['output_type'] = 'display_data';\n",
              "          await google.colab.output.renderOutput(dataTable, element);\n",
              "          const docLink = document.createElement('div');\n",
              "          docLink.innerHTML = docLinkHtml;\n",
              "          element.appendChild(docLink);\n",
              "        }\n",
              "      </script>\n",
              "    </div>\n",
              "  </div>\n",
              "  "
            ]
          },
          "metadata": {}
        }
      ]
    },
    {
      "cell_type": "code",
      "source": [
        "\n",
        "cdt_NE=np.array(data.iloc[:,0])\n",
        "\n",
        "s_c_tokenizer=Tokenizer(num_words=num_char, lower=False,char_level=True,filters=\"'!#$%&()*+,./:;<=>?@[\\\\]^_`{|}~\\t\\n'\")\n",
        "s_c_tokenizer.fit_on_texts(cdt_NE)\n",
        "\n",
        "inp=[\"Edgar\"]\n",
        "inp_sname_tkzd=s_c_tokenizer.texts_to_sequences(inp)\n",
        "inp_sname_tkzd_pded=pad_sequences(inp_sname_tkzd, padding=\"post\", truncating=\"post\", maxlen=15)\n",
        "\n",
        "  #print(inp_enc_pded)\n",
        "\n",
        "surname_hyppo = (S_C_model.predict(inp_sname_tkzd_pded))\n",
        "\n",
        "surname_hyppo"
      ],
      "metadata": {
        "colab": {
          "base_uri": "https://localhost:8080/"
        },
        "id": "W1Ak5a7npGlu",
        "outputId": "9f1d516c-a1fd-4c6c-c7aa-bd6d27f81fe1"
      },
      "execution_count": 15,
      "outputs": [
        {
          "output_type": "stream",
          "name": "stdout",
          "text": [
            "1/1 [==============================] - 0s 26ms/step\n"
          ]
        },
        {
          "output_type": "execute_result",
          "data": {
            "text/plain": [
              "array([[0.97341645]], dtype=float32)"
            ]
          },
          "metadata": {},
          "execution_count": 15
        }
      ]
    },
    {
      "cell_type": "markdown",
      "source": [
        "## G_model - модель определяющая пол по имени"
      ],
      "metadata": {
        "id": "QzMbz86GFyS-"
      }
    },
    {
      "cell_type": "code",
      "source": [
        "G_model=Sequential()\n",
        "G_model.add(Embedding(28,20,input_length=20))\n",
        "G_model.add(GRU(500, activation='tanh',return_sequences=True))\n",
        "G_model.add(GRU(250, activation='tanh'))\n",
        "G_model.add(Dense(1, activation='sigmoid'))#Полносвязный слой\n",
        "G_model.summary()\n",
        "\n",
        "G_model.compile(loss='binary_crossentropy', metrics=[\"AUC\"])#categorical cross entropy ruined a model"
      ],
      "metadata": {
        "colab": {
          "base_uri": "https://localhost:8080/"
        },
        "id": "28NziGr5Fx4x",
        "outputId": "63ee356f-b1a9-4c2a-e987-a178aed3a524"
      },
      "execution_count": 16,
      "outputs": [
        {
          "output_type": "stream",
          "name": "stdout",
          "text": [
            "Model: \"sequential_2\"\n",
            "_________________________________________________________________\n",
            " Layer (type)                Output Shape              Param #   \n",
            "=================================================================\n",
            " embedding_2 (Embedding)     (None, 20, 20)            560       \n",
            "                                                                 \n",
            " gru_1 (GRU)                 (None, 20, 500)           783000    \n",
            "                                                                 \n",
            " gru_2 (GRU)                 (None, 250)               564000    \n",
            "                                                                 \n",
            " dense_2 (Dense)             (None, 1)                 251       \n",
            "                                                                 \n",
            "=================================================================\n",
            "Total params: 1,347,811\n",
            "Trainable params: 1,347,811\n",
            "Non-trainable params: 0\n",
            "_________________________________________________________________\n"
          ]
        }
      ]
    },
    {
      "cell_type": "code",
      "source": [
        "G_model.load_weights('/content/Project_NLP/Models weights n data/GRU_weights_500_250/GRU_weights_500_250')"
      ],
      "metadata": {
        "colab": {
          "base_uri": "https://localhost:8080/"
        },
        "id": "lMIY6SfzGVBh",
        "outputId": "b875ad0d-7c7e-4042-857d-da633352b969"
      },
      "execution_count": 17,
      "outputs": [
        {
          "output_type": "execute_result",
          "data": {
            "text/plain": [
              "<tensorflow.python.training.tracking.util.CheckpointLoadStatus at 0x7f4eafb65390>"
            ]
          },
          "metadata": {},
          "execution_count": 17
        }
      ]
    },
    {
      "cell_type": "markdown",
      "source": [
        "Tokenizer"
      ],
      "metadata": {
        "id": "N-LSwt3gTdfj"
      }
    },
    {
      "cell_type": "code",
      "source": [
        "#tokenizing Names\n",
        "\n",
        "Full_Name_df=pd.read_csv(\"/content/Project_NLP/Full_Names.csv\")\n",
        "\n",
        "cdt_Names=np.array(Full_Name_df.iloc[:,0])\n",
        "\n",
        "num_char = 28 # [a-z]+\"-\"+\" \"\n",
        "g_tokenizer=Tokenizer(num_words=num_char, lower=True,char_level=True,filters=\"'!#$%&()*+,./:;<=>?@[\\\\]^_`{|}~\\t\\n'\")\n",
        "g_tokenizer.fit_on_texts(cdt_Names)\n",
        "\n",
        "\n",
        "inp_chars = 3\n",
        "one_hot_enc=g_tokenizer.texts_to_sequences(cdt_Names)\n",
        "\n",
        "\n",
        "print(cdt_Names[2])\n",
        "print(one_hot_enc[2])\n",
        "\n",
        "\n",
        "from keras_preprocessing.sequence import pad_sequences\n",
        "\n",
        "train_pded=pad_sequences(one_hot_enc, padding=\"pre\", truncating=\"post\", maxlen=20) \n",
        "\n",
        "print(train_pded[2])\n",
        "\n",
        "\n",
        "\n",
        "inp=[\"Abramov\"]\n",
        "\n",
        "inp_enc=g_tokenizer.texts_to_sequences(inp)\n",
        "#print(inp_enc)\n",
        "inp_enc_pded=pad_sequences(inp_enc, padding=\"pre\", truncating=\"post\", maxlen=20)\n",
        "\n",
        "#print(inp_enc_pded)\n",
        "\n",
        "surname_hyppo = (G_model.predict(inp_enc_pded))\n",
        "\n",
        "surname_hyppo"
      ],
      "metadata": {
        "colab": {
          "base_uri": "https://localhost:8080/"
        },
        "id": "CmrGFMc7QBkx",
        "outputId": "ade6f703-8376-47dd-dae2-625134444bb0"
      },
      "execution_count": 18,
      "outputs": [
        {
          "output_type": "stream",
          "name": "stdout",
          "text": [
            "Cezar Zuev\n",
            "[20, 7, 21, 1, 8, 6, 21, 17, 7, 3]\n",
            "[ 0  0  0  0  0  0  0  0  0  0 20  7 21  1  8  6 21 17  7  3]\n",
            "1/1 [==============================] - 1s 961ms/step\n"
          ]
        },
        {
          "output_type": "execute_result",
          "data": {
            "text/plain": [
              "array([[0.99882835]], dtype=float32)"
            ]
          },
          "metadata": {},
          "execution_count": 18
        }
      ]
    },
    {
      "cell_type": "markdown",
      "source": [
        "# Проверка корректноти данных"
      ],
      "metadata": {
        "id": "nQM5QC82C_8d"
      }
    },
    {
      "cell_type": "markdown",
      "source": [
        "Для начала нужно установить библиотеку для нахождения расстояния Левенштейна"
      ],
      "metadata": {
        "id": "cegyuHzY6pEP"
      }
    },
    {
      "cell_type": "code",
      "source": [
        "#Levenshtein distance\n",
        "\n",
        "#Наивный способ методе Левенштейна очень дорог\n",
        "\n",
        "#Сначао нужно установить билиотеку\n",
        "\n",
        "!pip install python-Levenshtein"
      ],
      "metadata": {
        "id": "TSrqaOA2I3WS",
        "colab": {
          "base_uri": "https://localhost:8080/"
        },
        "outputId": "0195ba02-5a35-436b-af88-a935d8600761"
      },
      "execution_count": 20,
      "outputs": [
        {
          "output_type": "stream",
          "name": "stdout",
          "text": [
            "Looking in indexes: https://pypi.org/simple, https://us-python.pkg.dev/colab-wheels/public/simple/\n",
            "Collecting python-Levenshtein\n",
            "  Downloading python_Levenshtein-0.20.8-py3-none-any.whl (9.4 kB)\n",
            "Collecting Levenshtein==0.20.8\n",
            "  Downloading Levenshtein-0.20.8-cp37-cp37m-manylinux_2_17_x86_64.manylinux2014_x86_64.whl (175 kB)\n",
            "\u001b[K     |████████████████████████████████| 175 kB 4.6 MB/s \n",
            "\u001b[?25hCollecting rapidfuzz<3.0.0,>=2.3.0\n",
            "  Downloading rapidfuzz-2.13.2-cp37-cp37m-manylinux_2_17_x86_64.manylinux2014_x86_64.whl (2.2 MB)\n",
            "\u001b[K     |████████████████████████████████| 2.2 MB 64.0 MB/s \n",
            "\u001b[?25hInstalling collected packages: rapidfuzz, Levenshtein, python-Levenshtein\n",
            "Successfully installed Levenshtein-0.20.8 python-Levenshtein-0.20.8 rapidfuzz-2.13.2\n"
          ]
        }
      ]
    },
    {
      "cell_type": "code",
      "source": [
        "from Levenshtein import distance as lev_distance\n",
        "\n",
        "Av_Names=pd.read_csv(\"https://raw.githubusercontent.com/Terkingil/Project_NLP/main/Avialable%20Names.csv\") #load base of names\n",
        "Av_Names=np.array(Av_Names)"
      ],
      "metadata": {
        "id": "wApC8h9Tnrsy"
      },
      "execution_count": 21,
      "outputs": []
    },
    {
      "cell_type": "markdown",
      "source": [
        "## Функция проверки имени"
      ],
      "metadata": {
        "id": "yCbAF2S0PfrI"
      }
    },
    {
      "cell_type": "code",
      "source": [
        "from dataclasses import replace\n",
        "#predict Name\n",
        "\n",
        "\n",
        "def candName(a):\n",
        "\n",
        "  a=a.replace(\" \",\"\") # очищаем от пробелов так как это очень сильно влияет на модель\n",
        "\n",
        "  global tokenizer\n",
        "\n",
        "  inp=[a]\n",
        "\n",
        "  inp_name_tkzd=n_tokenizer.texts_to_sequences(inp)\n",
        "  #print(inp_enc)\n",
        "  inp_name_tkzd_pded=pad_sequences(inp_name_tkzd, padding=\"post\", truncating=\"post\", maxlen=15)\n",
        "\n",
        "  #print(inp_enc_pded)\n",
        "\n",
        "  name_hyppo = (Name_model.predict(inp_name_tkzd_pded))\n",
        "  #print(name_hyppo)\n",
        "  if name_hyppo[0]>0.3:\n",
        "    isName=True\n",
        "  else:\n",
        "    isName=False\n",
        "  \n",
        "  #print(name_hyppo)\n",
        "\n",
        "\n",
        "  if isName:\n",
        "    min_dist=9999\n",
        "    ans=\"\"\n",
        "\n",
        "    possible_names=np.array([])\n",
        "\n",
        "    for i in Av_Names:\n",
        "      tmp=lev_distance(a,i[0])\n",
        "      if min_dist>=tmp:\n",
        "        min_dist=tmp\n",
        "        ans=i[0]\n",
        "        possible_names=np.append(possible_names,i[0])\n",
        "        cand_name=ans\n",
        "  else:\n",
        "    cand_name=\"\"\n",
        "\n",
        "  #print(possible_names)\n",
        "  return cand_name, isName\n"
      ],
      "metadata": {
        "id": "HIA0RYE7pKeL"
      },
      "execution_count": 22,
      "outputs": []
    },
    {
      "cell_type": "code",
      "source": [
        "candName(\"Alexei\")"
      ],
      "metadata": {
        "colab": {
          "base_uri": "https://localhost:8080/"
        },
        "id": "oIDM_CH_ewEB",
        "outputId": "35c6e853-d9c1-415c-ede0-8427adf2ee22"
      },
      "execution_count": 26,
      "outputs": [
        {
          "output_type": "stream",
          "name": "stdout",
          "text": [
            "1/1 [==============================] - 1s 725ms/step\n"
          ]
        },
        {
          "output_type": "execute_result",
          "data": {
            "text/plain": [
              "('Alexey', True)"
            ]
          },
          "metadata": {},
          "execution_count": 26
        }
      ]
    },
    {
      "cell_type": "markdown",
      "source": [
        "## Функция проверки фамилии"
      ],
      "metadata": {
        "id": "wAlxIwsOPkAa"
      }
    },
    {
      "cell_type": "code",
      "source": [
        "#SurNameCheck\n",
        "\n",
        "\n",
        "def candSName(a):\n",
        "\n",
        "  a=a.replace(\" \",\"\") # очищаем от пробелов так как это очень сильно влияет на модель\n",
        "\n",
        "  global s_c_tokenizer\n",
        "\n",
        "  inp=[a]\n",
        "\n",
        "  inp_sname_tkzd=s_c_tokenizer.texts_to_sequences(inp)\n",
        "  #print(inp_enc)\n",
        "  inp_sname_tkzd_pded=pad_sequences(inp_sname_tkzd, padding=\"post\", truncating=\"post\", maxlen=15)\n",
        "\n",
        "  #print(inp_enc_pded)\n",
        "\n",
        "  surname_hyppo = (S_C_model.predict(inp_sname_tkzd_pded))\n",
        "\n",
        "  #print(surname_hyppo)\n",
        "  #print(surname_hyppo[0])\n",
        "  if surname_hyppo[0]>0.2:\n",
        "    isSurN=True\n",
        "    cand_surname=a\n",
        "    cand_surname=(cand_surname[0]).upper()+cand_surname[1:]# Чтобы все фамилии были с большой буквы\n",
        "  else:\n",
        "    isSurN=False\n",
        "    cand_surname=\"\"\n",
        "  \n",
        "  cand_surname=cand_surname.replace(\" \",\"\")\n",
        "  return cand_surname,isSurN\n",
        "\n",
        "\n"
      ],
      "metadata": {
        "id": "_egxQXcvJrPD"
      },
      "execution_count": 35,
      "outputs": []
    },
    {
      "cell_type": "code",
      "source": [
        "candSName(\"Edgar\")"
      ],
      "metadata": {
        "colab": {
          "base_uri": "https://localhost:8080/"
        },
        "id": "WDi6q-KJLYLj",
        "outputId": "496c1782-636d-4d33-a6d6-a51d8bda3b6f"
      },
      "execution_count": 24,
      "outputs": [
        {
          "output_type": "stream",
          "name": "stdout",
          "text": [
            "1/1 [==============================] - 0s 36ms/step\n",
            "[[0.97341645]]\n"
          ]
        },
        {
          "output_type": "execute_result",
          "data": {
            "text/plain": [
              "('Edgar', True)"
            ]
          },
          "metadata": {},
          "execution_count": 24
        }
      ]
    },
    {
      "cell_type": "markdown",
      "source": [
        "## Функция создания почты"
      ],
      "metadata": {
        "id": "gnWoXRMrPmXE"
      }
    },
    {
      "cell_type": "code",
      "source": [
        "#MakingEmail\n",
        "\n",
        "def makeEmail(cand_name,cand_surname,isName,isSurN):\n",
        "\n",
        "  if isName and isSurN:\n",
        "    cand_name=cand_name.replace(\" \",\"\")\n",
        "    cand_surname=cand_surname.replace(\" \",\"\")\n",
        "    cand_mail=(cand_name.lower())+\".\"+(cand_surname.lower())+\"@company.com\"\n",
        "  else:\n",
        "    cand_mail=None\n",
        "  return cand_mail"
      ],
      "metadata": {
        "id": "5cUP4BVacTla"
      },
      "execution_count": 27,
      "outputs": []
    },
    {
      "cell_type": "markdown",
      "source": [
        "## Функция проверки телефона"
      ],
      "metadata": {
        "id": "Zez5bAfPPoIo"
      }
    },
    {
      "cell_type": "code",
      "source": [
        "#Telephone_Check\n",
        "\n",
        "import re\n",
        "\n",
        "bad_exmpls=[]\n",
        "\n",
        "for i in range(0,10):\n",
        "  bad_exmpls.append(\"7\"+10*str(i))\n",
        "\n",
        "bad_exmpls.append(\"71234567890\")\n",
        "\n",
        "\n",
        "def isPhone(a):\n",
        "  \n",
        "  a=re.sub(r'[^0-9]','',a)\n",
        "  if len(a)==7:\n",
        "\n",
        "    for i in bad_exmpls:\n",
        "      if a==i[4:]:\n",
        "        return None,False\n",
        "    return a,True\n",
        "\n",
        "  elif len(a)==6:\n",
        "\n",
        "    for i in bad_exmpls:\n",
        "      if a==i[5:]:\n",
        "        return None,False\n",
        "    return a,True\n",
        "\n",
        "\n",
        "  else:\n",
        "    return None,False\n",
        "\n",
        "isPhone(\"0000000\")\n"
      ],
      "metadata": {
        "colab": {
          "base_uri": "https://localhost:8080/"
        },
        "id": "Abo5NVGJ92vO",
        "outputId": "a4b0d5e9-c6ac-4488-b84d-497403b22671"
      },
      "execution_count": 28,
      "outputs": [
        {
          "output_type": "execute_result",
          "data": {
            "text/plain": [
              "(None, False)"
            ]
          },
          "metadata": {},
          "execution_count": 28
        }
      ]
    },
    {
      "cell_type": "markdown",
      "source": [
        "## Функция проверки города"
      ],
      "metadata": {
        "id": "sVLXkCvI_QGV"
      }
    },
    {
      "cell_type": "code",
      "source": [
        "def isCity(a):\n",
        "\n",
        "  a=a.replace(\" \",\"\") # очищаем от пробелов так как это очень сильно влияет на модель\n",
        "\n",
        "  global s_c_tokenizer\n",
        "\n",
        "  inp=[a]\n",
        "\n",
        "  inp_city_tkzd=s_c_tokenizer.texts_to_sequences(inp)\n",
        "  #print(inp_enc)\n",
        "  inp_city_tkzd_pded=pad_sequences(inp_city_tkzd, padding=\"post\", truncating=\"post\", maxlen=15)\n",
        "\n",
        "  #print(inp_enc_pded)\n",
        "\n",
        "  city_hyppo = (S_C_model.predict(inp_city_tkzd_pded))\n",
        "  #print(surname_hyppo[0])\n",
        "  if city_hyppo[0]>0.2:\n",
        "    isCity=True\n",
        "    city=a\n",
        "  else:\n",
        "    isCity=False\n",
        "    city=\"\"\n",
        "  \n",
        "  city=city.replace(\" \",\"\")\n",
        "  return city,isCity\n",
        "\n"
      ],
      "metadata": {
        "id": "bNxhElwU_Nx2"
      },
      "execution_count": 30,
      "outputs": []
    },
    {
      "cell_type": "markdown",
      "source": [
        "## Функция определения пола по имени"
      ],
      "metadata": {
        "id": "rp2X4HU8PrJK"
      }
    },
    {
      "cell_type": "code",
      "source": [
        "#Gender check\n",
        "\n",
        "\n",
        "def gIdent(cand_name,cand_surname,isName,isSName):\n",
        "\n",
        "  global g_tokenizer\n",
        "\n",
        "  if not(isName) and not(isSName):\n",
        "    return None\n",
        "  elif not(isName) and (isSName):\n",
        "    a=cand_surname\n",
        "  elif isName and not(isSName):\n",
        "    a=cand_name+\" \"\n",
        "  elif isName and (isSName):\n",
        "    a=cand_name+\" \"+cand_surname\n",
        "\n",
        "  inp=[a]\n",
        "  #print(inp)\n",
        "  inp_enc_g_tkzd=g_tokenizer.texts_to_sequences(inp)\n",
        "  #print(inp_enc)\n",
        "  inp_enc_g_tkzd_pded=pad_sequences(inp_enc_g_tkzd, padding=\"pre\", truncating=\"post\", maxlen=20)\n",
        "\n",
        "  #print(inp_enc_pded)\n",
        "\n",
        "  g_hyppo = (G_model.predict(inp_enc_g_tkzd_pded))\n",
        "\n",
        "  #print(g_hyppo)\n",
        "  if g_hyppo[0]>0.6:\n",
        "    isGender=True\n",
        "    gender=\"Male\"\n",
        "  elif g_hyppo[0]<0.4:\n",
        "    isGender=True\n",
        "    gender=\"Female\"\n",
        "  else:\n",
        "    isGender=False\n",
        "    gender=\"Unknown\"\n",
        "    \n",
        "  return gender\n",
        "  \n"
      ],
      "metadata": {
        "id": "koRtqSv4JtjL"
      },
      "execution_count": 31,
      "outputs": []
    },
    {
      "cell_type": "markdown",
      "source": [
        "# Cам алгоритм"
      ],
      "metadata": {
        "id": "RmmhbdGZVBq3"
      }
    },
    {
      "cell_type": "code",
      "source": [
        "task=pd.read_csv(\"Project_NLP/task_file_rew.txt\")\n",
        "\n",
        "\n",
        "display(task) #Видим что значения столбцов не совпадают со своими именами, переименовываем"
      ],
      "metadata": {
        "colab": {
          "base_uri": "https://localhost:8080/",
          "height": 424
        },
        "id": "sE-NJuqNo0us",
        "outputId": "1395e17a-299e-4aac-8b0f-557f2802b59a"
      },
      "execution_count": 42,
      "outputs": [
        {
          "output_type": "display_data",
          "data": {
            "text/plain": [
              "        EMAIL        NAME  LAST_NAME             TEL  CITY  Unnamed: 5\n",
              "0        Ivan     Abramov    7776514          Moscow   NaN         NaN\n",
              "1      Alexey    Nikolaev    1348520          Moscow               NaN\n",
              "2      Marina       iajsf   11311110          Moscow               NaN\n",
              "3     Dmitriy    Vasilyev    0000000           Kazan               NaN\n",
              "4   Ekaterina      Ilyina              St.Petersburg               NaN\n",
              "..        ...         ...        ...             ...   ...         ...\n",
              "58       Ivan     Sobolev    2350223           Kirov               NaN\n",
              "59     Alexei   Savelievv    5456787            Omsk   NaN         NaN\n",
              "60  Alexandra   Eermolina    3458723       Volgograd   NaN         NaN\n",
              "61       Olga      Belova    5555555         Izhevsk   NaN         NaN\n",
              "62     Ksenia    Izverova    5467328           jsdhf   NaN         NaN\n",
              "\n",
              "[63 rows x 6 columns]"
            ],
            "text/html": [
              "\n",
              "  <div id=\"df-ea698a00-6bb9-4a76-a54b-026b4d8a8929\">\n",
              "    <div class=\"colab-df-container\">\n",
              "      <div>\n",
              "<style scoped>\n",
              "    .dataframe tbody tr th:only-of-type {\n",
              "        vertical-align: middle;\n",
              "    }\n",
              "\n",
              "    .dataframe tbody tr th {\n",
              "        vertical-align: top;\n",
              "    }\n",
              "\n",
              "    .dataframe thead th {\n",
              "        text-align: right;\n",
              "    }\n",
              "</style>\n",
              "<table border=\"1\" class=\"dataframe\">\n",
              "  <thead>\n",
              "    <tr style=\"text-align: right;\">\n",
              "      <th></th>\n",
              "      <th>EMAIL</th>\n",
              "      <th>NAME</th>\n",
              "      <th>LAST_NAME</th>\n",
              "      <th>TEL</th>\n",
              "      <th>CITY</th>\n",
              "      <th>Unnamed: 5</th>\n",
              "    </tr>\n",
              "  </thead>\n",
              "  <tbody>\n",
              "    <tr>\n",
              "      <th>0</th>\n",
              "      <td>Ivan</td>\n",
              "      <td>Abramov</td>\n",
              "      <td>7776514</td>\n",
              "      <td>Moscow</td>\n",
              "      <td>NaN</td>\n",
              "      <td>NaN</td>\n",
              "    </tr>\n",
              "    <tr>\n",
              "      <th>1</th>\n",
              "      <td>Alexey</td>\n",
              "      <td>Nikolaev</td>\n",
              "      <td>1348520</td>\n",
              "      <td>Moscow</td>\n",
              "      <td></td>\n",
              "      <td>NaN</td>\n",
              "    </tr>\n",
              "    <tr>\n",
              "      <th>2</th>\n",
              "      <td>Marina</td>\n",
              "      <td>iajsf</td>\n",
              "      <td>11311110</td>\n",
              "      <td>Moscow</td>\n",
              "      <td></td>\n",
              "      <td>NaN</td>\n",
              "    </tr>\n",
              "    <tr>\n",
              "      <th>3</th>\n",
              "      <td>Dmitriy</td>\n",
              "      <td>Vasilyev</td>\n",
              "      <td>0000000</td>\n",
              "      <td>Kazan</td>\n",
              "      <td></td>\n",
              "      <td>NaN</td>\n",
              "    </tr>\n",
              "    <tr>\n",
              "      <th>4</th>\n",
              "      <td>Ekaterina</td>\n",
              "      <td>Ilyina</td>\n",
              "      <td></td>\n",
              "      <td>St.Petersburg</td>\n",
              "      <td></td>\n",
              "      <td>NaN</td>\n",
              "    </tr>\n",
              "    <tr>\n",
              "      <th>...</th>\n",
              "      <td>...</td>\n",
              "      <td>...</td>\n",
              "      <td>...</td>\n",
              "      <td>...</td>\n",
              "      <td>...</td>\n",
              "      <td>...</td>\n",
              "    </tr>\n",
              "    <tr>\n",
              "      <th>58</th>\n",
              "      <td>Ivan</td>\n",
              "      <td>Sobolev</td>\n",
              "      <td>2350223</td>\n",
              "      <td>Kirov</td>\n",
              "      <td></td>\n",
              "      <td>NaN</td>\n",
              "    </tr>\n",
              "    <tr>\n",
              "      <th>59</th>\n",
              "      <td>Alexei</td>\n",
              "      <td>Savelievv</td>\n",
              "      <td>5456787</td>\n",
              "      <td>Omsk</td>\n",
              "      <td>NaN</td>\n",
              "      <td>NaN</td>\n",
              "    </tr>\n",
              "    <tr>\n",
              "      <th>60</th>\n",
              "      <td>Alexandra</td>\n",
              "      <td>Eermolina</td>\n",
              "      <td>3458723</td>\n",
              "      <td>Volgograd</td>\n",
              "      <td>NaN</td>\n",
              "      <td>NaN</td>\n",
              "    </tr>\n",
              "    <tr>\n",
              "      <th>61</th>\n",
              "      <td>Olga</td>\n",
              "      <td>Belova</td>\n",
              "      <td>5555555</td>\n",
              "      <td>Izhevsk</td>\n",
              "      <td>NaN</td>\n",
              "      <td>NaN</td>\n",
              "    </tr>\n",
              "    <tr>\n",
              "      <th>62</th>\n",
              "      <td>Ksenia</td>\n",
              "      <td>Izverova</td>\n",
              "      <td>5467328</td>\n",
              "      <td>jsdhf</td>\n",
              "      <td>NaN</td>\n",
              "      <td>NaN</td>\n",
              "    </tr>\n",
              "  </tbody>\n",
              "</table>\n",
              "<p>63 rows × 6 columns</p>\n",
              "</div>\n",
              "      <button class=\"colab-df-convert\" onclick=\"convertToInteractive('df-ea698a00-6bb9-4a76-a54b-026b4d8a8929')\"\n",
              "              title=\"Convert this dataframe to an interactive table.\"\n",
              "              style=\"display:none;\">\n",
              "        \n",
              "  <svg xmlns=\"http://www.w3.org/2000/svg\" height=\"24px\"viewBox=\"0 0 24 24\"\n",
              "       width=\"24px\">\n",
              "    <path d=\"M0 0h24v24H0V0z\" fill=\"none\"/>\n",
              "    <path d=\"M18.56 5.44l.94 2.06.94-2.06 2.06-.94-2.06-.94-.94-2.06-.94 2.06-2.06.94zm-11 1L8.5 8.5l.94-2.06 2.06-.94-2.06-.94L8.5 2.5l-.94 2.06-2.06.94zm10 10l.94 2.06.94-2.06 2.06-.94-2.06-.94-.94-2.06-.94 2.06-2.06.94z\"/><path d=\"M17.41 7.96l-1.37-1.37c-.4-.4-.92-.59-1.43-.59-.52 0-1.04.2-1.43.59L10.3 9.45l-7.72 7.72c-.78.78-.78 2.05 0 2.83L4 21.41c.39.39.9.59 1.41.59.51 0 1.02-.2 1.41-.59l7.78-7.78 2.81-2.81c.8-.78.8-2.07 0-2.86zM5.41 20L4 18.59l7.72-7.72 1.47 1.35L5.41 20z\"/>\n",
              "  </svg>\n",
              "      </button>\n",
              "      \n",
              "  <style>\n",
              "    .colab-df-container {\n",
              "      display:flex;\n",
              "      flex-wrap:wrap;\n",
              "      gap: 12px;\n",
              "    }\n",
              "\n",
              "    .colab-df-convert {\n",
              "      background-color: #E8F0FE;\n",
              "      border: none;\n",
              "      border-radius: 50%;\n",
              "      cursor: pointer;\n",
              "      display: none;\n",
              "      fill: #1967D2;\n",
              "      height: 32px;\n",
              "      padding: 0 0 0 0;\n",
              "      width: 32px;\n",
              "    }\n",
              "\n",
              "    .colab-df-convert:hover {\n",
              "      background-color: #E2EBFA;\n",
              "      box-shadow: 0px 1px 2px rgba(60, 64, 67, 0.3), 0px 1px 3px 1px rgba(60, 64, 67, 0.15);\n",
              "      fill: #174EA6;\n",
              "    }\n",
              "\n",
              "    [theme=dark] .colab-df-convert {\n",
              "      background-color: #3B4455;\n",
              "      fill: #D2E3FC;\n",
              "    }\n",
              "\n",
              "    [theme=dark] .colab-df-convert:hover {\n",
              "      background-color: #434B5C;\n",
              "      box-shadow: 0px 1px 3px 1px rgba(0, 0, 0, 0.15);\n",
              "      filter: drop-shadow(0px 1px 2px rgba(0, 0, 0, 0.3));\n",
              "      fill: #FFFFFF;\n",
              "    }\n",
              "  </style>\n",
              "\n",
              "      <script>\n",
              "        const buttonEl =\n",
              "          document.querySelector('#df-ea698a00-6bb9-4a76-a54b-026b4d8a8929 button.colab-df-convert');\n",
              "        buttonEl.style.display =\n",
              "          google.colab.kernel.accessAllowed ? 'block' : 'none';\n",
              "\n",
              "        async function convertToInteractive(key) {\n",
              "          const element = document.querySelector('#df-ea698a00-6bb9-4a76-a54b-026b4d8a8929');\n",
              "          const dataTable =\n",
              "            await google.colab.kernel.invokeFunction('convertToInteractive',\n",
              "                                                     [key], {});\n",
              "          if (!dataTable) return;\n",
              "\n",
              "          const docLinkHtml = 'Like what you see? Visit the ' +\n",
              "            '<a target=\"_blank\" href=https://colab.research.google.com/notebooks/data_table.ipynb>data table notebook</a>'\n",
              "            + ' to learn more about interactive tables.';\n",
              "          element.innerHTML = '';\n",
              "          dataTable['output_type'] = 'display_data';\n",
              "          await google.colab.output.renderOutput(dataTable, element);\n",
              "          const docLink = document.createElement('div');\n",
              "          docLink.innerHTML = docLinkHtml;\n",
              "          element.appendChild(docLink);\n",
              "        }\n",
              "      </script>\n",
              "    </div>\n",
              "  </div>\n",
              "  "
            ]
          },
          "metadata": {}
        }
      ]
    },
    {
      "cell_type": "code",
      "source": [
        "reworked_table=task.copy()\n",
        "\n",
        "reworked_table = reworked_table.set_axis(['NAME', 'LAST_NAM', 'TEL', 'CITY', 'EMAIL','GENDER'], axis=1, inplace=False)\n",
        "\n",
        "reworked_table"
      ],
      "metadata": {
        "colab": {
          "base_uri": "https://localhost:8080/",
          "height": 424
        },
        "id": "jNajunwjyaGO",
        "outputId": "83a4944d-b0a3-48ef-c001-da63cab5f696"
      },
      "execution_count": 43,
      "outputs": [
        {
          "output_type": "execute_result",
          "data": {
            "text/plain": [
              "         NAME    LAST_NAM        TEL            CITY EMAIL  GENDER\n",
              "0        Ivan     Abramov    7776514          Moscow   NaN     NaN\n",
              "1      Alexey    Nikolaev    1348520          Moscow           NaN\n",
              "2      Marina       iajsf   11311110          Moscow           NaN\n",
              "3     Dmitriy    Vasilyev    0000000           Kazan           NaN\n",
              "4   Ekaterina      Ilyina              St.Petersburg           NaN\n",
              "..        ...         ...        ...             ...   ...     ...\n",
              "58       Ivan     Sobolev    2350223           Kirov           NaN\n",
              "59     Alexei   Savelievv    5456787            Omsk   NaN     NaN\n",
              "60  Alexandra   Eermolina    3458723       Volgograd   NaN     NaN\n",
              "61       Olga      Belova    5555555         Izhevsk   NaN     NaN\n",
              "62     Ksenia    Izverova    5467328           jsdhf   NaN     NaN\n",
              "\n",
              "[63 rows x 6 columns]"
            ],
            "text/html": [
              "\n",
              "  <div id=\"df-5e0ed72a-29ac-45a6-8257-17e77eea4534\">\n",
              "    <div class=\"colab-df-container\">\n",
              "      <div>\n",
              "<style scoped>\n",
              "    .dataframe tbody tr th:only-of-type {\n",
              "        vertical-align: middle;\n",
              "    }\n",
              "\n",
              "    .dataframe tbody tr th {\n",
              "        vertical-align: top;\n",
              "    }\n",
              "\n",
              "    .dataframe thead th {\n",
              "        text-align: right;\n",
              "    }\n",
              "</style>\n",
              "<table border=\"1\" class=\"dataframe\">\n",
              "  <thead>\n",
              "    <tr style=\"text-align: right;\">\n",
              "      <th></th>\n",
              "      <th>NAME</th>\n",
              "      <th>LAST_NAM</th>\n",
              "      <th>TEL</th>\n",
              "      <th>CITY</th>\n",
              "      <th>EMAIL</th>\n",
              "      <th>GENDER</th>\n",
              "    </tr>\n",
              "  </thead>\n",
              "  <tbody>\n",
              "    <tr>\n",
              "      <th>0</th>\n",
              "      <td>Ivan</td>\n",
              "      <td>Abramov</td>\n",
              "      <td>7776514</td>\n",
              "      <td>Moscow</td>\n",
              "      <td>NaN</td>\n",
              "      <td>NaN</td>\n",
              "    </tr>\n",
              "    <tr>\n",
              "      <th>1</th>\n",
              "      <td>Alexey</td>\n",
              "      <td>Nikolaev</td>\n",
              "      <td>1348520</td>\n",
              "      <td>Moscow</td>\n",
              "      <td></td>\n",
              "      <td>NaN</td>\n",
              "    </tr>\n",
              "    <tr>\n",
              "      <th>2</th>\n",
              "      <td>Marina</td>\n",
              "      <td>iajsf</td>\n",
              "      <td>11311110</td>\n",
              "      <td>Moscow</td>\n",
              "      <td></td>\n",
              "      <td>NaN</td>\n",
              "    </tr>\n",
              "    <tr>\n",
              "      <th>3</th>\n",
              "      <td>Dmitriy</td>\n",
              "      <td>Vasilyev</td>\n",
              "      <td>0000000</td>\n",
              "      <td>Kazan</td>\n",
              "      <td></td>\n",
              "      <td>NaN</td>\n",
              "    </tr>\n",
              "    <tr>\n",
              "      <th>4</th>\n",
              "      <td>Ekaterina</td>\n",
              "      <td>Ilyina</td>\n",
              "      <td></td>\n",
              "      <td>St.Petersburg</td>\n",
              "      <td></td>\n",
              "      <td>NaN</td>\n",
              "    </tr>\n",
              "    <tr>\n",
              "      <th>...</th>\n",
              "      <td>...</td>\n",
              "      <td>...</td>\n",
              "      <td>...</td>\n",
              "      <td>...</td>\n",
              "      <td>...</td>\n",
              "      <td>...</td>\n",
              "    </tr>\n",
              "    <tr>\n",
              "      <th>58</th>\n",
              "      <td>Ivan</td>\n",
              "      <td>Sobolev</td>\n",
              "      <td>2350223</td>\n",
              "      <td>Kirov</td>\n",
              "      <td></td>\n",
              "      <td>NaN</td>\n",
              "    </tr>\n",
              "    <tr>\n",
              "      <th>59</th>\n",
              "      <td>Alexei</td>\n",
              "      <td>Savelievv</td>\n",
              "      <td>5456787</td>\n",
              "      <td>Omsk</td>\n",
              "      <td>NaN</td>\n",
              "      <td>NaN</td>\n",
              "    </tr>\n",
              "    <tr>\n",
              "      <th>60</th>\n",
              "      <td>Alexandra</td>\n",
              "      <td>Eermolina</td>\n",
              "      <td>3458723</td>\n",
              "      <td>Volgograd</td>\n",
              "      <td>NaN</td>\n",
              "      <td>NaN</td>\n",
              "    </tr>\n",
              "    <tr>\n",
              "      <th>61</th>\n",
              "      <td>Olga</td>\n",
              "      <td>Belova</td>\n",
              "      <td>5555555</td>\n",
              "      <td>Izhevsk</td>\n",
              "      <td>NaN</td>\n",
              "      <td>NaN</td>\n",
              "    </tr>\n",
              "    <tr>\n",
              "      <th>62</th>\n",
              "      <td>Ksenia</td>\n",
              "      <td>Izverova</td>\n",
              "      <td>5467328</td>\n",
              "      <td>jsdhf</td>\n",
              "      <td>NaN</td>\n",
              "      <td>NaN</td>\n",
              "    </tr>\n",
              "  </tbody>\n",
              "</table>\n",
              "<p>63 rows × 6 columns</p>\n",
              "</div>\n",
              "      <button class=\"colab-df-convert\" onclick=\"convertToInteractive('df-5e0ed72a-29ac-45a6-8257-17e77eea4534')\"\n",
              "              title=\"Convert this dataframe to an interactive table.\"\n",
              "              style=\"display:none;\">\n",
              "        \n",
              "  <svg xmlns=\"http://www.w3.org/2000/svg\" height=\"24px\"viewBox=\"0 0 24 24\"\n",
              "       width=\"24px\">\n",
              "    <path d=\"M0 0h24v24H0V0z\" fill=\"none\"/>\n",
              "    <path d=\"M18.56 5.44l.94 2.06.94-2.06 2.06-.94-2.06-.94-.94-2.06-.94 2.06-2.06.94zm-11 1L8.5 8.5l.94-2.06 2.06-.94-2.06-.94L8.5 2.5l-.94 2.06-2.06.94zm10 10l.94 2.06.94-2.06 2.06-.94-2.06-.94-.94-2.06-.94 2.06-2.06.94z\"/><path d=\"M17.41 7.96l-1.37-1.37c-.4-.4-.92-.59-1.43-.59-.52 0-1.04.2-1.43.59L10.3 9.45l-7.72 7.72c-.78.78-.78 2.05 0 2.83L4 21.41c.39.39.9.59 1.41.59.51 0 1.02-.2 1.41-.59l7.78-7.78 2.81-2.81c.8-.78.8-2.07 0-2.86zM5.41 20L4 18.59l7.72-7.72 1.47 1.35L5.41 20z\"/>\n",
              "  </svg>\n",
              "      </button>\n",
              "      \n",
              "  <style>\n",
              "    .colab-df-container {\n",
              "      display:flex;\n",
              "      flex-wrap:wrap;\n",
              "      gap: 12px;\n",
              "    }\n",
              "\n",
              "    .colab-df-convert {\n",
              "      background-color: #E8F0FE;\n",
              "      border: none;\n",
              "      border-radius: 50%;\n",
              "      cursor: pointer;\n",
              "      display: none;\n",
              "      fill: #1967D2;\n",
              "      height: 32px;\n",
              "      padding: 0 0 0 0;\n",
              "      width: 32px;\n",
              "    }\n",
              "\n",
              "    .colab-df-convert:hover {\n",
              "      background-color: #E2EBFA;\n",
              "      box-shadow: 0px 1px 2px rgba(60, 64, 67, 0.3), 0px 1px 3px 1px rgba(60, 64, 67, 0.15);\n",
              "      fill: #174EA6;\n",
              "    }\n",
              "\n",
              "    [theme=dark] .colab-df-convert {\n",
              "      background-color: #3B4455;\n",
              "      fill: #D2E3FC;\n",
              "    }\n",
              "\n",
              "    [theme=dark] .colab-df-convert:hover {\n",
              "      background-color: #434B5C;\n",
              "      box-shadow: 0px 1px 3px 1px rgba(0, 0, 0, 0.15);\n",
              "      filter: drop-shadow(0px 1px 2px rgba(0, 0, 0, 0.3));\n",
              "      fill: #FFFFFF;\n",
              "    }\n",
              "  </style>\n",
              "\n",
              "      <script>\n",
              "        const buttonEl =\n",
              "          document.querySelector('#df-5e0ed72a-29ac-45a6-8257-17e77eea4534 button.colab-df-convert');\n",
              "        buttonEl.style.display =\n",
              "          google.colab.kernel.accessAllowed ? 'block' : 'none';\n",
              "\n",
              "        async function convertToInteractive(key) {\n",
              "          const element = document.querySelector('#df-5e0ed72a-29ac-45a6-8257-17e77eea4534');\n",
              "          const dataTable =\n",
              "            await google.colab.kernel.invokeFunction('convertToInteractive',\n",
              "                                                     [key], {});\n",
              "          if (!dataTable) return;\n",
              "\n",
              "          const docLinkHtml = 'Like what you see? Visit the ' +\n",
              "            '<a target=\"_blank\" href=https://colab.research.google.com/notebooks/data_table.ipynb>data table notebook</a>'\n",
              "            + ' to learn more about interactive tables.';\n",
              "          element.innerHTML = '';\n",
              "          dataTable['output_type'] = 'display_data';\n",
              "          await google.colab.output.renderOutput(dataTable, element);\n",
              "          const docLink = document.createElement('div');\n",
              "          docLink.innerHTML = docLinkHtml;\n",
              "          element.appendChild(docLink);\n",
              "        }\n",
              "      </script>\n",
              "    </div>\n",
              "  </div>\n",
              "  "
            ]
          },
          "metadata": {},
          "execution_count": 43
        }
      ]
    },
    {
      "cell_type": "code",
      "source": [
        "\n",
        "reworked_table=reworked_table.fillna(\"\")# Меняем None на пустую строку чтобы не было проблем с проверкой строк\n",
        "\n",
        "\n",
        "def check_valid_row(a): #Проверяем каждую строку таблицы и применяем написанные функции\n",
        "\n",
        "  cand_name,isCand_Name=candName(a[0])\n",
        "  cand_surname,isCand_SName=candSName(a[1])\n",
        "\n",
        "  \n",
        "  #print(cand_name,cand_surname)\n",
        "  a[0]=cand_name\n",
        "  a[1]=cand_surname\n",
        "\n",
        "  \n",
        "  a.loc[\"TEL\"]=isPhone(a.loc[\"TEL\"])[0]\n",
        "\n",
        "  a.loc[\"EMAIL\"]=makeEmail(cand_name,cand_surname,isCand_Name,isCand_SName)\n",
        "\n",
        "  tmp=gIdent(cand_name,cand_surname,isCand_Name,isCand_SName)\n",
        "  #print([tmp],[cand_name],[cand_surname],[isCand_Name],[isCand_SName])\n",
        "\n",
        "  a.loc[\"CITY\"]=isCity(a.loc[\"CITY\"])[0]#29,62\n",
        "\n",
        "  a.loc[\"GENDER\"]=tmp\n",
        "  return a\n",
        "\n",
        "reworked_table=reworked_table.apply(check_valid_row, axis=1)"
      ],
      "metadata": {
        "id": "E6BhyT0spCg8"
      },
      "execution_count": null,
      "outputs": []
    },
    {
      "cell_type": "markdown",
      "source": [
        "То что было"
      ],
      "metadata": {
        "id": "W7uUjLvOLsJP"
      }
    },
    {
      "cell_type": "code",
      "source": [
        "display(task)"
      ],
      "metadata": {
        "colab": {
          "base_uri": "https://localhost:8080/",
          "height": 424
        },
        "id": "4Kwet65EFNZE",
        "outputId": "0e556b78-190b-4c59-d952-6f9dba524182"
      },
      "execution_count": 45,
      "outputs": [
        {
          "output_type": "display_data",
          "data": {
            "text/plain": [
              "        EMAIL        NAME  LAST_NAME             TEL  CITY  Unnamed: 5\n",
              "0        Ivan     Abramov    7776514          Moscow   NaN         NaN\n",
              "1      Alexey    Nikolaev    1348520          Moscow               NaN\n",
              "2      Marina       iajsf   11311110          Moscow               NaN\n",
              "3     Dmitriy    Vasilyev    0000000           Kazan               NaN\n",
              "4   Ekaterina      Ilyina              St.Petersburg               NaN\n",
              "..        ...         ...        ...             ...   ...         ...\n",
              "58       Ivan     Sobolev    2350223           Kirov               NaN\n",
              "59     Alexei   Savelievv    5456787            Omsk   NaN         NaN\n",
              "60  Alexandra   Eermolina    3458723       Volgograd   NaN         NaN\n",
              "61       Olga      Belova    5555555         Izhevsk   NaN         NaN\n",
              "62     Ksenia    Izverova    5467328           jsdhf   NaN         NaN\n",
              "\n",
              "[63 rows x 6 columns]"
            ],
            "text/html": [
              "\n",
              "  <div id=\"df-356228cb-8c0b-4db7-a93d-d7e7e6a8019f\">\n",
              "    <div class=\"colab-df-container\">\n",
              "      <div>\n",
              "<style scoped>\n",
              "    .dataframe tbody tr th:only-of-type {\n",
              "        vertical-align: middle;\n",
              "    }\n",
              "\n",
              "    .dataframe tbody tr th {\n",
              "        vertical-align: top;\n",
              "    }\n",
              "\n",
              "    .dataframe thead th {\n",
              "        text-align: right;\n",
              "    }\n",
              "</style>\n",
              "<table border=\"1\" class=\"dataframe\">\n",
              "  <thead>\n",
              "    <tr style=\"text-align: right;\">\n",
              "      <th></th>\n",
              "      <th>EMAIL</th>\n",
              "      <th>NAME</th>\n",
              "      <th>LAST_NAME</th>\n",
              "      <th>TEL</th>\n",
              "      <th>CITY</th>\n",
              "      <th>Unnamed: 5</th>\n",
              "    </tr>\n",
              "  </thead>\n",
              "  <tbody>\n",
              "    <tr>\n",
              "      <th>0</th>\n",
              "      <td>Ivan</td>\n",
              "      <td>Abramov</td>\n",
              "      <td>7776514</td>\n",
              "      <td>Moscow</td>\n",
              "      <td>NaN</td>\n",
              "      <td>NaN</td>\n",
              "    </tr>\n",
              "    <tr>\n",
              "      <th>1</th>\n",
              "      <td>Alexey</td>\n",
              "      <td>Nikolaev</td>\n",
              "      <td>1348520</td>\n",
              "      <td>Moscow</td>\n",
              "      <td></td>\n",
              "      <td>NaN</td>\n",
              "    </tr>\n",
              "    <tr>\n",
              "      <th>2</th>\n",
              "      <td>Marina</td>\n",
              "      <td>iajsf</td>\n",
              "      <td>11311110</td>\n",
              "      <td>Moscow</td>\n",
              "      <td></td>\n",
              "      <td>NaN</td>\n",
              "    </tr>\n",
              "    <tr>\n",
              "      <th>3</th>\n",
              "      <td>Dmitriy</td>\n",
              "      <td>Vasilyev</td>\n",
              "      <td>0000000</td>\n",
              "      <td>Kazan</td>\n",
              "      <td></td>\n",
              "      <td>NaN</td>\n",
              "    </tr>\n",
              "    <tr>\n",
              "      <th>4</th>\n",
              "      <td>Ekaterina</td>\n",
              "      <td>Ilyina</td>\n",
              "      <td></td>\n",
              "      <td>St.Petersburg</td>\n",
              "      <td></td>\n",
              "      <td>NaN</td>\n",
              "    </tr>\n",
              "    <tr>\n",
              "      <th>...</th>\n",
              "      <td>...</td>\n",
              "      <td>...</td>\n",
              "      <td>...</td>\n",
              "      <td>...</td>\n",
              "      <td>...</td>\n",
              "      <td>...</td>\n",
              "    </tr>\n",
              "    <tr>\n",
              "      <th>58</th>\n",
              "      <td>Ivan</td>\n",
              "      <td>Sobolev</td>\n",
              "      <td>2350223</td>\n",
              "      <td>Kirov</td>\n",
              "      <td></td>\n",
              "      <td>NaN</td>\n",
              "    </tr>\n",
              "    <tr>\n",
              "      <th>59</th>\n",
              "      <td>Alexei</td>\n",
              "      <td>Savelievv</td>\n",
              "      <td>5456787</td>\n",
              "      <td>Omsk</td>\n",
              "      <td>NaN</td>\n",
              "      <td>NaN</td>\n",
              "    </tr>\n",
              "    <tr>\n",
              "      <th>60</th>\n",
              "      <td>Alexandra</td>\n",
              "      <td>Eermolina</td>\n",
              "      <td>3458723</td>\n",
              "      <td>Volgograd</td>\n",
              "      <td>NaN</td>\n",
              "      <td>NaN</td>\n",
              "    </tr>\n",
              "    <tr>\n",
              "      <th>61</th>\n",
              "      <td>Olga</td>\n",
              "      <td>Belova</td>\n",
              "      <td>5555555</td>\n",
              "      <td>Izhevsk</td>\n",
              "      <td>NaN</td>\n",
              "      <td>NaN</td>\n",
              "    </tr>\n",
              "    <tr>\n",
              "      <th>62</th>\n",
              "      <td>Ksenia</td>\n",
              "      <td>Izverova</td>\n",
              "      <td>5467328</td>\n",
              "      <td>jsdhf</td>\n",
              "      <td>NaN</td>\n",
              "      <td>NaN</td>\n",
              "    </tr>\n",
              "  </tbody>\n",
              "</table>\n",
              "<p>63 rows × 6 columns</p>\n",
              "</div>\n",
              "      <button class=\"colab-df-convert\" onclick=\"convertToInteractive('df-356228cb-8c0b-4db7-a93d-d7e7e6a8019f')\"\n",
              "              title=\"Convert this dataframe to an interactive table.\"\n",
              "              style=\"display:none;\">\n",
              "        \n",
              "  <svg xmlns=\"http://www.w3.org/2000/svg\" height=\"24px\"viewBox=\"0 0 24 24\"\n",
              "       width=\"24px\">\n",
              "    <path d=\"M0 0h24v24H0V0z\" fill=\"none\"/>\n",
              "    <path d=\"M18.56 5.44l.94 2.06.94-2.06 2.06-.94-2.06-.94-.94-2.06-.94 2.06-2.06.94zm-11 1L8.5 8.5l.94-2.06 2.06-.94-2.06-.94L8.5 2.5l-.94 2.06-2.06.94zm10 10l.94 2.06.94-2.06 2.06-.94-2.06-.94-.94-2.06-.94 2.06-2.06.94z\"/><path d=\"M17.41 7.96l-1.37-1.37c-.4-.4-.92-.59-1.43-.59-.52 0-1.04.2-1.43.59L10.3 9.45l-7.72 7.72c-.78.78-.78 2.05 0 2.83L4 21.41c.39.39.9.59 1.41.59.51 0 1.02-.2 1.41-.59l7.78-7.78 2.81-2.81c.8-.78.8-2.07 0-2.86zM5.41 20L4 18.59l7.72-7.72 1.47 1.35L5.41 20z\"/>\n",
              "  </svg>\n",
              "      </button>\n",
              "      \n",
              "  <style>\n",
              "    .colab-df-container {\n",
              "      display:flex;\n",
              "      flex-wrap:wrap;\n",
              "      gap: 12px;\n",
              "    }\n",
              "\n",
              "    .colab-df-convert {\n",
              "      background-color: #E8F0FE;\n",
              "      border: none;\n",
              "      border-radius: 50%;\n",
              "      cursor: pointer;\n",
              "      display: none;\n",
              "      fill: #1967D2;\n",
              "      height: 32px;\n",
              "      padding: 0 0 0 0;\n",
              "      width: 32px;\n",
              "    }\n",
              "\n",
              "    .colab-df-convert:hover {\n",
              "      background-color: #E2EBFA;\n",
              "      box-shadow: 0px 1px 2px rgba(60, 64, 67, 0.3), 0px 1px 3px 1px rgba(60, 64, 67, 0.15);\n",
              "      fill: #174EA6;\n",
              "    }\n",
              "\n",
              "    [theme=dark] .colab-df-convert {\n",
              "      background-color: #3B4455;\n",
              "      fill: #D2E3FC;\n",
              "    }\n",
              "\n",
              "    [theme=dark] .colab-df-convert:hover {\n",
              "      background-color: #434B5C;\n",
              "      box-shadow: 0px 1px 3px 1px rgba(0, 0, 0, 0.15);\n",
              "      filter: drop-shadow(0px 1px 2px rgba(0, 0, 0, 0.3));\n",
              "      fill: #FFFFFF;\n",
              "    }\n",
              "  </style>\n",
              "\n",
              "      <script>\n",
              "        const buttonEl =\n",
              "          document.querySelector('#df-356228cb-8c0b-4db7-a93d-d7e7e6a8019f button.colab-df-convert');\n",
              "        buttonEl.style.display =\n",
              "          google.colab.kernel.accessAllowed ? 'block' : 'none';\n",
              "\n",
              "        async function convertToInteractive(key) {\n",
              "          const element = document.querySelector('#df-356228cb-8c0b-4db7-a93d-d7e7e6a8019f');\n",
              "          const dataTable =\n",
              "            await google.colab.kernel.invokeFunction('convertToInteractive',\n",
              "                                                     [key], {});\n",
              "          if (!dataTable) return;\n",
              "\n",
              "          const docLinkHtml = 'Like what you see? Visit the ' +\n",
              "            '<a target=\"_blank\" href=https://colab.research.google.com/notebooks/data_table.ipynb>data table notebook</a>'\n",
              "            + ' to learn more about interactive tables.';\n",
              "          element.innerHTML = '';\n",
              "          dataTable['output_type'] = 'display_data';\n",
              "          await google.colab.output.renderOutput(dataTable, element);\n",
              "          const docLink = document.createElement('div');\n",
              "          docLink.innerHTML = docLinkHtml;\n",
              "          element.appendChild(docLink);\n",
              "        }\n",
              "      </script>\n",
              "    </div>\n",
              "  </div>\n",
              "  "
            ]
          },
          "metadata": {}
        }
      ]
    },
    {
      "cell_type": "markdown",
      "source": [
        "То что стало"
      ],
      "metadata": {
        "id": "5TO7zkwRLwXG"
      }
    },
    {
      "cell_type": "code",
      "source": [
        "display(reworked_table)"
      ],
      "metadata": {
        "colab": {
          "base_uri": "https://localhost:8080/",
          "height": 424
        },
        "id": "pjbOAI0fHB7J",
        "outputId": "a45676cb-ef23-4625-bf72-ab3fecbade4c"
      },
      "execution_count": 46,
      "outputs": [
        {
          "output_type": "display_data",
          "data": {
            "text/plain": [
              "          NAME   LAST_NAM      TEL           CITY  \\\n",
              "0         Ivan    Abramov  7776514         Moscow   \n",
              "1       Alexey   Nikolaev  1348520         Moscow   \n",
              "2       Marina                None         Moscow   \n",
              "3      Dmitrij   Vasilyev     None          Kazan   \n",
              "4    Ekaterina     Ilyina     None  St.Petersburg   \n",
              "..         ...        ...      ...            ...   \n",
              "58        Ivan    Sobolev  2350223          Kirov   \n",
              "59      Alexey  Savelievv  5456787           Omsk   \n",
              "60  Aleksandra  Eermolina  3458723      Volgograd   \n",
              "61        Olga     Belova     None        Izhevsk   \n",
              "62     Kseniya   Izverova  5467328                  \n",
              "\n",
              "                               EMAIL  GENDER  \n",
              "0           ivan.abramov@company.com    Male  \n",
              "1        alexey.nikolaev@company.com    Male  \n",
              "2                               None  Female  \n",
              "3       dmitrij.vasilyev@company.com    Male  \n",
              "4       ekaterina.ilyina@company.com  Female  \n",
              "..                               ...     ...  \n",
              "58          ivan.sobolev@company.com    Male  \n",
              "59      alexey.savelievv@company.com    Male  \n",
              "60  aleksandra.eermolina@company.com  Female  \n",
              "61           olga.belova@company.com  Female  \n",
              "62      kseniya.izverova@company.com  Female  \n",
              "\n",
              "[63 rows x 6 columns]"
            ],
            "text/html": [
              "\n",
              "  <div id=\"df-0aca05ba-6be1-46cd-88f4-1970e3beefa8\">\n",
              "    <div class=\"colab-df-container\">\n",
              "      <div>\n",
              "<style scoped>\n",
              "    .dataframe tbody tr th:only-of-type {\n",
              "        vertical-align: middle;\n",
              "    }\n",
              "\n",
              "    .dataframe tbody tr th {\n",
              "        vertical-align: top;\n",
              "    }\n",
              "\n",
              "    .dataframe thead th {\n",
              "        text-align: right;\n",
              "    }\n",
              "</style>\n",
              "<table border=\"1\" class=\"dataframe\">\n",
              "  <thead>\n",
              "    <tr style=\"text-align: right;\">\n",
              "      <th></th>\n",
              "      <th>NAME</th>\n",
              "      <th>LAST_NAM</th>\n",
              "      <th>TEL</th>\n",
              "      <th>CITY</th>\n",
              "      <th>EMAIL</th>\n",
              "      <th>GENDER</th>\n",
              "    </tr>\n",
              "  </thead>\n",
              "  <tbody>\n",
              "    <tr>\n",
              "      <th>0</th>\n",
              "      <td>Ivan</td>\n",
              "      <td>Abramov</td>\n",
              "      <td>7776514</td>\n",
              "      <td>Moscow</td>\n",
              "      <td>ivan.abramov@company.com</td>\n",
              "      <td>Male</td>\n",
              "    </tr>\n",
              "    <tr>\n",
              "      <th>1</th>\n",
              "      <td>Alexey</td>\n",
              "      <td>Nikolaev</td>\n",
              "      <td>1348520</td>\n",
              "      <td>Moscow</td>\n",
              "      <td>alexey.nikolaev@company.com</td>\n",
              "      <td>Male</td>\n",
              "    </tr>\n",
              "    <tr>\n",
              "      <th>2</th>\n",
              "      <td>Marina</td>\n",
              "      <td></td>\n",
              "      <td>None</td>\n",
              "      <td>Moscow</td>\n",
              "      <td>None</td>\n",
              "      <td>Female</td>\n",
              "    </tr>\n",
              "    <tr>\n",
              "      <th>3</th>\n",
              "      <td>Dmitrij</td>\n",
              "      <td>Vasilyev</td>\n",
              "      <td>None</td>\n",
              "      <td>Kazan</td>\n",
              "      <td>dmitrij.vasilyev@company.com</td>\n",
              "      <td>Male</td>\n",
              "    </tr>\n",
              "    <tr>\n",
              "      <th>4</th>\n",
              "      <td>Ekaterina</td>\n",
              "      <td>Ilyina</td>\n",
              "      <td>None</td>\n",
              "      <td>St.Petersburg</td>\n",
              "      <td>ekaterina.ilyina@company.com</td>\n",
              "      <td>Female</td>\n",
              "    </tr>\n",
              "    <tr>\n",
              "      <th>...</th>\n",
              "      <td>...</td>\n",
              "      <td>...</td>\n",
              "      <td>...</td>\n",
              "      <td>...</td>\n",
              "      <td>...</td>\n",
              "      <td>...</td>\n",
              "    </tr>\n",
              "    <tr>\n",
              "      <th>58</th>\n",
              "      <td>Ivan</td>\n",
              "      <td>Sobolev</td>\n",
              "      <td>2350223</td>\n",
              "      <td>Kirov</td>\n",
              "      <td>ivan.sobolev@company.com</td>\n",
              "      <td>Male</td>\n",
              "    </tr>\n",
              "    <tr>\n",
              "      <th>59</th>\n",
              "      <td>Alexey</td>\n",
              "      <td>Savelievv</td>\n",
              "      <td>5456787</td>\n",
              "      <td>Omsk</td>\n",
              "      <td>alexey.savelievv@company.com</td>\n",
              "      <td>Male</td>\n",
              "    </tr>\n",
              "    <tr>\n",
              "      <th>60</th>\n",
              "      <td>Aleksandra</td>\n",
              "      <td>Eermolina</td>\n",
              "      <td>3458723</td>\n",
              "      <td>Volgograd</td>\n",
              "      <td>aleksandra.eermolina@company.com</td>\n",
              "      <td>Female</td>\n",
              "    </tr>\n",
              "    <tr>\n",
              "      <th>61</th>\n",
              "      <td>Olga</td>\n",
              "      <td>Belova</td>\n",
              "      <td>None</td>\n",
              "      <td>Izhevsk</td>\n",
              "      <td>olga.belova@company.com</td>\n",
              "      <td>Female</td>\n",
              "    </tr>\n",
              "    <tr>\n",
              "      <th>62</th>\n",
              "      <td>Kseniya</td>\n",
              "      <td>Izverova</td>\n",
              "      <td>5467328</td>\n",
              "      <td></td>\n",
              "      <td>kseniya.izverova@company.com</td>\n",
              "      <td>Female</td>\n",
              "    </tr>\n",
              "  </tbody>\n",
              "</table>\n",
              "<p>63 rows × 6 columns</p>\n",
              "</div>\n",
              "      <button class=\"colab-df-convert\" onclick=\"convertToInteractive('df-0aca05ba-6be1-46cd-88f4-1970e3beefa8')\"\n",
              "              title=\"Convert this dataframe to an interactive table.\"\n",
              "              style=\"display:none;\">\n",
              "        \n",
              "  <svg xmlns=\"http://www.w3.org/2000/svg\" height=\"24px\"viewBox=\"0 0 24 24\"\n",
              "       width=\"24px\">\n",
              "    <path d=\"M0 0h24v24H0V0z\" fill=\"none\"/>\n",
              "    <path d=\"M18.56 5.44l.94 2.06.94-2.06 2.06-.94-2.06-.94-.94-2.06-.94 2.06-2.06.94zm-11 1L8.5 8.5l.94-2.06 2.06-.94-2.06-.94L8.5 2.5l-.94 2.06-2.06.94zm10 10l.94 2.06.94-2.06 2.06-.94-2.06-.94-.94-2.06-.94 2.06-2.06.94z\"/><path d=\"M17.41 7.96l-1.37-1.37c-.4-.4-.92-.59-1.43-.59-.52 0-1.04.2-1.43.59L10.3 9.45l-7.72 7.72c-.78.78-.78 2.05 0 2.83L4 21.41c.39.39.9.59 1.41.59.51 0 1.02-.2 1.41-.59l7.78-7.78 2.81-2.81c.8-.78.8-2.07 0-2.86zM5.41 20L4 18.59l7.72-7.72 1.47 1.35L5.41 20z\"/>\n",
              "  </svg>\n",
              "      </button>\n",
              "      \n",
              "  <style>\n",
              "    .colab-df-container {\n",
              "      display:flex;\n",
              "      flex-wrap:wrap;\n",
              "      gap: 12px;\n",
              "    }\n",
              "\n",
              "    .colab-df-convert {\n",
              "      background-color: #E8F0FE;\n",
              "      border: none;\n",
              "      border-radius: 50%;\n",
              "      cursor: pointer;\n",
              "      display: none;\n",
              "      fill: #1967D2;\n",
              "      height: 32px;\n",
              "      padding: 0 0 0 0;\n",
              "      width: 32px;\n",
              "    }\n",
              "\n",
              "    .colab-df-convert:hover {\n",
              "      background-color: #E2EBFA;\n",
              "      box-shadow: 0px 1px 2px rgba(60, 64, 67, 0.3), 0px 1px 3px 1px rgba(60, 64, 67, 0.15);\n",
              "      fill: #174EA6;\n",
              "    }\n",
              "\n",
              "    [theme=dark] .colab-df-convert {\n",
              "      background-color: #3B4455;\n",
              "      fill: #D2E3FC;\n",
              "    }\n",
              "\n",
              "    [theme=dark] .colab-df-convert:hover {\n",
              "      background-color: #434B5C;\n",
              "      box-shadow: 0px 1px 3px 1px rgba(0, 0, 0, 0.15);\n",
              "      filter: drop-shadow(0px 1px 2px rgba(0, 0, 0, 0.3));\n",
              "      fill: #FFFFFF;\n",
              "    }\n",
              "  </style>\n",
              "\n",
              "      <script>\n",
              "        const buttonEl =\n",
              "          document.querySelector('#df-0aca05ba-6be1-46cd-88f4-1970e3beefa8 button.colab-df-convert');\n",
              "        buttonEl.style.display =\n",
              "          google.colab.kernel.accessAllowed ? 'block' : 'none';\n",
              "\n",
              "        async function convertToInteractive(key) {\n",
              "          const element = document.querySelector('#df-0aca05ba-6be1-46cd-88f4-1970e3beefa8');\n",
              "          const dataTable =\n",
              "            await google.colab.kernel.invokeFunction('convertToInteractive',\n",
              "                                                     [key], {});\n",
              "          if (!dataTable) return;\n",
              "\n",
              "          const docLinkHtml = 'Like what you see? Visit the ' +\n",
              "            '<a target=\"_blank\" href=https://colab.research.google.com/notebooks/data_table.ipynb>data table notebook</a>'\n",
              "            + ' to learn more about interactive tables.';\n",
              "          element.innerHTML = '';\n",
              "          dataTable['output_type'] = 'display_data';\n",
              "          await google.colab.output.renderOutput(dataTable, element);\n",
              "          const docLink = document.createElement('div');\n",
              "          docLink.innerHTML = docLinkHtml;\n",
              "          element.appendChild(docLink);\n",
              "        }\n",
              "      </script>\n",
              "    </div>\n",
              "  </div>\n",
              "  "
            ]
          },
          "metadata": {}
        }
      ]
    },
    {
      "cell_type": "markdown",
      "source": [
        "# Вывод графиков\n",
        "\n",
        "В данном разделе выводятся разлиные диаграммы по обработанным данным\n",
        "\n",
        "Все полностью автоматизировано При изменении датасета числа поменяются сами\n",
        "\n",
        "Графики на гит хабе - скриншоты из ноутбука, из-за проблем совместимости plotly и github"
      ],
      "metadata": {
        "id": "vfL-zUjx0Qnu"
      }
    },
    {
      "cell_type": "code",
      "source": [
        "chart_data=reworked_table.loc[:,\"EMAIL\"]\n",
        "cnt=0\n",
        "\n",
        "for i in chart_data:\n",
        "  if not(pd.isna(i)):\n",
        "    cnt+=1\n",
        "\n",
        "len(chart_data)\n",
        "\n",
        "pie_data=[cnt,len(chart_data)-cnt]\n",
        "\n",
        "pie_data"
      ],
      "metadata": {
        "id": "pXi3ifdB8Dvz",
        "colab": {
          "base_uri": "https://localhost:8080/"
        },
        "outputId": "c84c1f96-1592-438e-c7a6-903618892f5b"
      },
      "execution_count": 47,
      "outputs": [
        {
          "output_type": "execute_result",
          "data": {
            "text/plain": [
              "[52, 11]"
            ]
          },
          "metadata": {},
          "execution_count": 47
        }
      ]
    },
    {
      "cell_type": "code",
      "source": [
        "import plotly.express as px\n",
        "from PIL import Image\n",
        "\n",
        "fig=px.pie(values=pie_data,names=[\"With Email\",\"Without Email\"],title='Сколько людей из дата сета имеют почту')\n",
        "fig.show()"
      ],
      "metadata": {
        "id": "mYyUm4qK-jPQ",
        "colab": {
          "base_uri": "https://localhost:8080/",
          "height": 542
        },
        "outputId": "dc6a823d-7606-4883-984e-c0ccaeb56d04"
      },
      "execution_count": 56,
      "outputs": [
        {
          "output_type": "display_data",
          "data": {
            "text/html": [
              "<html>\n",
              "<head><meta charset=\"utf-8\" /></head>\n",
              "<body>\n",
              "    <div>            <script src=\"https://cdnjs.cloudflare.com/ajax/libs/mathjax/2.7.5/MathJax.js?config=TeX-AMS-MML_SVG\"></script><script type=\"text/javascript\">if (window.MathJax) {MathJax.Hub.Config({SVG: {font: \"STIX-Web\"}});}</script>                <script type=\"text/javascript\">window.PlotlyConfig = {MathJaxConfig: 'local'};</script>\n",
              "        <script src=\"https://cdn.plot.ly/plotly-2.8.3.min.js\"></script>                <div id=\"bcb42045-2035-4aa9-a3b3-37573bafa1f9\" class=\"plotly-graph-div\" style=\"height:525px; width:100%;\"></div>            <script type=\"text/javascript\">                                    window.PLOTLYENV=window.PLOTLYENV || {};                                    if (document.getElementById(\"bcb42045-2035-4aa9-a3b3-37573bafa1f9\")) {                    Plotly.newPlot(                        \"bcb42045-2035-4aa9-a3b3-37573bafa1f9\",                        [{\"domain\":{\"x\":[0.0,1.0],\"y\":[0.0,1.0]},\"hovertemplate\":\"label=%{label}<br>value=%{value}<extra></extra>\",\"labels\":[\"With Email\",\"Without Email\"],\"legendgroup\":\"\",\"name\":\"\",\"showlegend\":true,\"values\":[52,11],\"type\":\"pie\"}],                        {\"template\":{\"data\":{\"bar\":[{\"error_x\":{\"color\":\"#2a3f5f\"},\"error_y\":{\"color\":\"#2a3f5f\"},\"marker\":{\"line\":{\"color\":\"#E5ECF6\",\"width\":0.5},\"pattern\":{\"fillmode\":\"overlay\",\"size\":10,\"solidity\":0.2}},\"type\":\"bar\"}],\"barpolar\":[{\"marker\":{\"line\":{\"color\":\"#E5ECF6\",\"width\":0.5},\"pattern\":{\"fillmode\":\"overlay\",\"size\":10,\"solidity\":0.2}},\"type\":\"barpolar\"}],\"carpet\":[{\"aaxis\":{\"endlinecolor\":\"#2a3f5f\",\"gridcolor\":\"white\",\"linecolor\":\"white\",\"minorgridcolor\":\"white\",\"startlinecolor\":\"#2a3f5f\"},\"baxis\":{\"endlinecolor\":\"#2a3f5f\",\"gridcolor\":\"white\",\"linecolor\":\"white\",\"minorgridcolor\":\"white\",\"startlinecolor\":\"#2a3f5f\"},\"type\":\"carpet\"}],\"choropleth\":[{\"colorbar\":{\"outlinewidth\":0,\"ticks\":\"\"},\"type\":\"choropleth\"}],\"contour\":[{\"colorbar\":{\"outlinewidth\":0,\"ticks\":\"\"},\"colorscale\":[[0.0,\"#0d0887\"],[0.1111111111111111,\"#46039f\"],[0.2222222222222222,\"#7201a8\"],[0.3333333333333333,\"#9c179e\"],[0.4444444444444444,\"#bd3786\"],[0.5555555555555556,\"#d8576b\"],[0.6666666666666666,\"#ed7953\"],[0.7777777777777778,\"#fb9f3a\"],[0.8888888888888888,\"#fdca26\"],[1.0,\"#f0f921\"]],\"type\":\"contour\"}],\"contourcarpet\":[{\"colorbar\":{\"outlinewidth\":0,\"ticks\":\"\"},\"type\":\"contourcarpet\"}],\"heatmap\":[{\"colorbar\":{\"outlinewidth\":0,\"ticks\":\"\"},\"colorscale\":[[0.0,\"#0d0887\"],[0.1111111111111111,\"#46039f\"],[0.2222222222222222,\"#7201a8\"],[0.3333333333333333,\"#9c179e\"],[0.4444444444444444,\"#bd3786\"],[0.5555555555555556,\"#d8576b\"],[0.6666666666666666,\"#ed7953\"],[0.7777777777777778,\"#fb9f3a\"],[0.8888888888888888,\"#fdca26\"],[1.0,\"#f0f921\"]],\"type\":\"heatmap\"}],\"heatmapgl\":[{\"colorbar\":{\"outlinewidth\":0,\"ticks\":\"\"},\"colorscale\":[[0.0,\"#0d0887\"],[0.1111111111111111,\"#46039f\"],[0.2222222222222222,\"#7201a8\"],[0.3333333333333333,\"#9c179e\"],[0.4444444444444444,\"#bd3786\"],[0.5555555555555556,\"#d8576b\"],[0.6666666666666666,\"#ed7953\"],[0.7777777777777778,\"#fb9f3a\"],[0.8888888888888888,\"#fdca26\"],[1.0,\"#f0f921\"]],\"type\":\"heatmapgl\"}],\"histogram\":[{\"marker\":{\"pattern\":{\"fillmode\":\"overlay\",\"size\":10,\"solidity\":0.2}},\"type\":\"histogram\"}],\"histogram2d\":[{\"colorbar\":{\"outlinewidth\":0,\"ticks\":\"\"},\"colorscale\":[[0.0,\"#0d0887\"],[0.1111111111111111,\"#46039f\"],[0.2222222222222222,\"#7201a8\"],[0.3333333333333333,\"#9c179e\"],[0.4444444444444444,\"#bd3786\"],[0.5555555555555556,\"#d8576b\"],[0.6666666666666666,\"#ed7953\"],[0.7777777777777778,\"#fb9f3a\"],[0.8888888888888888,\"#fdca26\"],[1.0,\"#f0f921\"]],\"type\":\"histogram2d\"}],\"histogram2dcontour\":[{\"colorbar\":{\"outlinewidth\":0,\"ticks\":\"\"},\"colorscale\":[[0.0,\"#0d0887\"],[0.1111111111111111,\"#46039f\"],[0.2222222222222222,\"#7201a8\"],[0.3333333333333333,\"#9c179e\"],[0.4444444444444444,\"#bd3786\"],[0.5555555555555556,\"#d8576b\"],[0.6666666666666666,\"#ed7953\"],[0.7777777777777778,\"#fb9f3a\"],[0.8888888888888888,\"#fdca26\"],[1.0,\"#f0f921\"]],\"type\":\"histogram2dcontour\"}],\"mesh3d\":[{\"colorbar\":{\"outlinewidth\":0,\"ticks\":\"\"},\"type\":\"mesh3d\"}],\"parcoords\":[{\"line\":{\"colorbar\":{\"outlinewidth\":0,\"ticks\":\"\"}},\"type\":\"parcoords\"}],\"pie\":[{\"automargin\":true,\"type\":\"pie\"}],\"scatter\":[{\"marker\":{\"colorbar\":{\"outlinewidth\":0,\"ticks\":\"\"}},\"type\":\"scatter\"}],\"scatter3d\":[{\"line\":{\"colorbar\":{\"outlinewidth\":0,\"ticks\":\"\"}},\"marker\":{\"colorbar\":{\"outlinewidth\":0,\"ticks\":\"\"}},\"type\":\"scatter3d\"}],\"scattercarpet\":[{\"marker\":{\"colorbar\":{\"outlinewidth\":0,\"ticks\":\"\"}},\"type\":\"scattercarpet\"}],\"scattergeo\":[{\"marker\":{\"colorbar\":{\"outlinewidth\":0,\"ticks\":\"\"}},\"type\":\"scattergeo\"}],\"scattergl\":[{\"marker\":{\"colorbar\":{\"outlinewidth\":0,\"ticks\":\"\"}},\"type\":\"scattergl\"}],\"scattermapbox\":[{\"marker\":{\"colorbar\":{\"outlinewidth\":0,\"ticks\":\"\"}},\"type\":\"scattermapbox\"}],\"scatterpolar\":[{\"marker\":{\"colorbar\":{\"outlinewidth\":0,\"ticks\":\"\"}},\"type\":\"scatterpolar\"}],\"scatterpolargl\":[{\"marker\":{\"colorbar\":{\"outlinewidth\":0,\"ticks\":\"\"}},\"type\":\"scatterpolargl\"}],\"scatterternary\":[{\"marker\":{\"colorbar\":{\"outlinewidth\":0,\"ticks\":\"\"}},\"type\":\"scatterternary\"}],\"surface\":[{\"colorbar\":{\"outlinewidth\":0,\"ticks\":\"\"},\"colorscale\":[[0.0,\"#0d0887\"],[0.1111111111111111,\"#46039f\"],[0.2222222222222222,\"#7201a8\"],[0.3333333333333333,\"#9c179e\"],[0.4444444444444444,\"#bd3786\"],[0.5555555555555556,\"#d8576b\"],[0.6666666666666666,\"#ed7953\"],[0.7777777777777778,\"#fb9f3a\"],[0.8888888888888888,\"#fdca26\"],[1.0,\"#f0f921\"]],\"type\":\"surface\"}],\"table\":[{\"cells\":{\"fill\":{\"color\":\"#EBF0F8\"},\"line\":{\"color\":\"white\"}},\"header\":{\"fill\":{\"color\":\"#C8D4E3\"},\"line\":{\"color\":\"white\"}},\"type\":\"table\"}]},\"layout\":{\"annotationdefaults\":{\"arrowcolor\":\"#2a3f5f\",\"arrowhead\":0,\"arrowwidth\":1},\"autotypenumbers\":\"strict\",\"coloraxis\":{\"colorbar\":{\"outlinewidth\":0,\"ticks\":\"\"}},\"colorscale\":{\"diverging\":[[0,\"#8e0152\"],[0.1,\"#c51b7d\"],[0.2,\"#de77ae\"],[0.3,\"#f1b6da\"],[0.4,\"#fde0ef\"],[0.5,\"#f7f7f7\"],[0.6,\"#e6f5d0\"],[0.7,\"#b8e186\"],[0.8,\"#7fbc41\"],[0.9,\"#4d9221\"],[1,\"#276419\"]],\"sequential\":[[0.0,\"#0d0887\"],[0.1111111111111111,\"#46039f\"],[0.2222222222222222,\"#7201a8\"],[0.3333333333333333,\"#9c179e\"],[0.4444444444444444,\"#bd3786\"],[0.5555555555555556,\"#d8576b\"],[0.6666666666666666,\"#ed7953\"],[0.7777777777777778,\"#fb9f3a\"],[0.8888888888888888,\"#fdca26\"],[1.0,\"#f0f921\"]],\"sequentialminus\":[[0.0,\"#0d0887\"],[0.1111111111111111,\"#46039f\"],[0.2222222222222222,\"#7201a8\"],[0.3333333333333333,\"#9c179e\"],[0.4444444444444444,\"#bd3786\"],[0.5555555555555556,\"#d8576b\"],[0.6666666666666666,\"#ed7953\"],[0.7777777777777778,\"#fb9f3a\"],[0.8888888888888888,\"#fdca26\"],[1.0,\"#f0f921\"]]},\"colorway\":[\"#636efa\",\"#EF553B\",\"#00cc96\",\"#ab63fa\",\"#FFA15A\",\"#19d3f3\",\"#FF6692\",\"#B6E880\",\"#FF97FF\",\"#FECB52\"],\"font\":{\"color\":\"#2a3f5f\"},\"geo\":{\"bgcolor\":\"white\",\"lakecolor\":\"white\",\"landcolor\":\"#E5ECF6\",\"showlakes\":true,\"showland\":true,\"subunitcolor\":\"white\"},\"hoverlabel\":{\"align\":\"left\"},\"hovermode\":\"closest\",\"mapbox\":{\"style\":\"light\"},\"paper_bgcolor\":\"white\",\"plot_bgcolor\":\"#E5ECF6\",\"polar\":{\"angularaxis\":{\"gridcolor\":\"white\",\"linecolor\":\"white\",\"ticks\":\"\"},\"bgcolor\":\"#E5ECF6\",\"radialaxis\":{\"gridcolor\":\"white\",\"linecolor\":\"white\",\"ticks\":\"\"}},\"scene\":{\"xaxis\":{\"backgroundcolor\":\"#E5ECF6\",\"gridcolor\":\"white\",\"gridwidth\":2,\"linecolor\":\"white\",\"showbackground\":true,\"ticks\":\"\",\"zerolinecolor\":\"white\"},\"yaxis\":{\"backgroundcolor\":\"#E5ECF6\",\"gridcolor\":\"white\",\"gridwidth\":2,\"linecolor\":\"white\",\"showbackground\":true,\"ticks\":\"\",\"zerolinecolor\":\"white\"},\"zaxis\":{\"backgroundcolor\":\"#E5ECF6\",\"gridcolor\":\"white\",\"gridwidth\":2,\"linecolor\":\"white\",\"showbackground\":true,\"ticks\":\"\",\"zerolinecolor\":\"white\"}},\"shapedefaults\":{\"line\":{\"color\":\"#2a3f5f\"}},\"ternary\":{\"aaxis\":{\"gridcolor\":\"white\",\"linecolor\":\"white\",\"ticks\":\"\"},\"baxis\":{\"gridcolor\":\"white\",\"linecolor\":\"white\",\"ticks\":\"\"},\"bgcolor\":\"#E5ECF6\",\"caxis\":{\"gridcolor\":\"white\",\"linecolor\":\"white\",\"ticks\":\"\"}},\"title\":{\"x\":0.05},\"xaxis\":{\"automargin\":true,\"gridcolor\":\"white\",\"linecolor\":\"white\",\"ticks\":\"\",\"title\":{\"standoff\":15},\"zerolinecolor\":\"white\",\"zerolinewidth\":2},\"yaxis\":{\"automargin\":true,\"gridcolor\":\"white\",\"linecolor\":\"white\",\"ticks\":\"\",\"title\":{\"standoff\":15},\"zerolinecolor\":\"white\",\"zerolinewidth\":2}}},\"legend\":{\"tracegroupgap\":0},\"title\":{\"text\":\"\\u0421\\u043a\\u043e\\u043b\\u044c\\u043a\\u043e \\u043b\\u044e\\u0434\\u0435\\u0439 \\u0438\\u0437 \\u0434\\u0430\\u0442\\u0430 \\u0441\\u0435\\u0442\\u0430 \\u0438\\u043c\\u0435\\u044e\\u0442 \\u043f\\u043e\\u0447\\u0442\\u0443\"}},                        {\"responsive\": true}                    ).then(function(){\n",
              "                            \n",
              "var gd = document.getElementById('bcb42045-2035-4aa9-a3b3-37573bafa1f9');\n",
              "var x = new MutationObserver(function (mutations, observer) {{\n",
              "        var display = window.getComputedStyle(gd).display;\n",
              "        if (!display || display === 'none') {{\n",
              "            console.log([gd, 'removed!']);\n",
              "            Plotly.purge(gd);\n",
              "            observer.disconnect();\n",
              "        }}\n",
              "}});\n",
              "\n",
              "// Listen for the removal of the full notebook cells\n",
              "var notebookContainer = gd.closest('#notebook-container');\n",
              "if (notebookContainer) {{\n",
              "    x.observe(notebookContainer, {childList: true});\n",
              "}}\n",
              "\n",
              "// Listen for the clearing of the current output cell\n",
              "var outputEl = gd.closest('.output');\n",
              "if (outputEl) {{\n",
              "    x.observe(outputEl, {childList: true});\n",
              "}}\n",
              "\n",
              "                        })                };                            </script>        </div>\n",
              "</body>\n",
              "</html>"
            ]
          },
          "metadata": {}
        }
      ]
    },
    {
      "cell_type": "markdown",
      "source": [
        "Из-за того что в гит хаб не корректно отображаются из Plotly Я вставил скриншот графиков из ноутбука."
      ],
      "metadata": {
        "id": "zOiF3HiYR5Zd"
      }
    },
    {
      "cell_type": "code",
      "source": [
        "img = Image.open('/content/Project_NLP/Images/mails.png',mode='r')\n",
        "img"
      ],
      "metadata": {
        "colab": {
          "base_uri": "https://localhost:8080/",
          "height": 542
        },
        "id": "2QUibbInQyKy",
        "outputId": "f6b97140-6295-4fcb-ba9d-45df5412bcb2"
      },
      "execution_count": 69,
      "outputs": [
        {
          "output_type": "execute_result",
          "data": {
            "text/plain": [
              "<PIL.PngImagePlugin.PngImageFile image mode=RGBA size=1492x525 at 0x7F4EA47BA1D0>"
            ],
            "image/png": "[encoded data removed]"
          },
          "metadata": {},
          "execution_count": 69
        }
      ]
    },
    {
      "cell_type": "code",
      "source": [
        "#Посчитаем сколько Мужчин, Женщин или Неопределенных в датасете\n",
        "\n",
        "m_number=reworked_table.loc[reworked_table[\"GENDER\"]==\"Male\", \"GENDER\"].count()\n",
        "f_number=reworked_table.loc[reworked_table[\"GENDER\"]==\"Female\", \"GENDER\"].count()\n",
        "other=(reworked_table[reworked_table[\"GENDER\"].isin([\"\",\"Unknown\",None])]).loc[:,\"GENDER\"].size\n",
        "\n",
        "total=m_number+f_number+other\n",
        "title=\"Распределение пола в датасете Всего {total:d}\"\n",
        "\n",
        "\n",
        "gender_pie=px.pie(values=[m_number,f_number,other],names=[\"Male\",\"Female\",\"Unknown\"],title=title.format(total=total))\n",
        "gender_pie.show()\n",
        "\n",
        "\n"
      ],
      "metadata": {
        "id": "5PTpcu9A_sUt",
        "colab": {
          "base_uri": "https://localhost:8080/",
          "height": 542
        },
        "outputId": "64161777-e61a-4383-84bb-27e40effbe6a"
      },
      "execution_count": 49,
      "outputs": [
        {
          "output_type": "display_data",
          "data": {
            "text/html": [
              "<html>\n",
              "<head><meta charset=\"utf-8\" /></head>\n",
              "<body>\n",
              "    <div>            <script src=\"https://cdnjs.cloudflare.com/ajax/libs/mathjax/2.7.5/MathJax.js?config=TeX-AMS-MML_SVG\"></script><script type=\"text/javascript\">if (window.MathJax) {MathJax.Hub.Config({SVG: {font: \"STIX-Web\"}});}</script>                <script type=\"text/javascript\">window.PlotlyConfig = {MathJaxConfig: 'local'};</script>\n",
              "        <script src=\"https://cdn.plot.ly/plotly-2.8.3.min.js\"></script>                <div id=\"2e4d754d-eb78-48bb-8ccc-0b700fc2dfa8\" class=\"plotly-graph-div\" style=\"height:525px; width:100%;\"></div>            <script type=\"text/javascript\">                                    window.PLOTLYENV=window.PLOTLYENV || {};                                    if (document.getElementById(\"2e4d754d-eb78-48bb-8ccc-0b700fc2dfa8\")) {                    Plotly.newPlot(                        \"2e4d754d-eb78-48bb-8ccc-0b700fc2dfa8\",                        [{\"domain\":{\"x\":[0.0,1.0],\"y\":[0.0,1.0]},\"hovertemplate\":\"label=%{label}<br>value=%{value}<extra></extra>\",\"labels\":[\"Male\",\"Female\",\"Unknown\"],\"legendgroup\":\"\",\"name\":\"\",\"showlegend\":true,\"values\":[31,27,5],\"type\":\"pie\"}],                        {\"template\":{\"data\":{\"bar\":[{\"error_x\":{\"color\":\"#2a3f5f\"},\"error_y\":{\"color\":\"#2a3f5f\"},\"marker\":{\"line\":{\"color\":\"#E5ECF6\",\"width\":0.5},\"pattern\":{\"fillmode\":\"overlay\",\"size\":10,\"solidity\":0.2}},\"type\":\"bar\"}],\"barpolar\":[{\"marker\":{\"line\":{\"color\":\"#E5ECF6\",\"width\":0.5},\"pattern\":{\"fillmode\":\"overlay\",\"size\":10,\"solidity\":0.2}},\"type\":\"barpolar\"}],\"carpet\":[{\"aaxis\":{\"endlinecolor\":\"#2a3f5f\",\"gridcolor\":\"white\",\"linecolor\":\"white\",\"minorgridcolor\":\"white\",\"startlinecolor\":\"#2a3f5f\"},\"baxis\":{\"endlinecolor\":\"#2a3f5f\",\"gridcolor\":\"white\",\"linecolor\":\"white\",\"minorgridcolor\":\"white\",\"startlinecolor\":\"#2a3f5f\"},\"type\":\"carpet\"}],\"choropleth\":[{\"colorbar\":{\"outlinewidth\":0,\"ticks\":\"\"},\"type\":\"choropleth\"}],\"contour\":[{\"colorbar\":{\"outlinewidth\":0,\"ticks\":\"\"},\"colorscale\":[[0.0,\"#0d0887\"],[0.1111111111111111,\"#46039f\"],[0.2222222222222222,\"#7201a8\"],[0.3333333333333333,\"#9c179e\"],[0.4444444444444444,\"#bd3786\"],[0.5555555555555556,\"#d8576b\"],[0.6666666666666666,\"#ed7953\"],[0.7777777777777778,\"#fb9f3a\"],[0.8888888888888888,\"#fdca26\"],[1.0,\"#f0f921\"]],\"type\":\"contour\"}],\"contourcarpet\":[{\"colorbar\":{\"outlinewidth\":0,\"ticks\":\"\"},\"type\":\"contourcarpet\"}],\"heatmap\":[{\"colorbar\":{\"outlinewidth\":0,\"ticks\":\"\"},\"colorscale\":[[0.0,\"#0d0887\"],[0.1111111111111111,\"#46039f\"],[0.2222222222222222,\"#7201a8\"],[0.3333333333333333,\"#9c179e\"],[0.4444444444444444,\"#bd3786\"],[0.5555555555555556,\"#d8576b\"],[0.6666666666666666,\"#ed7953\"],[0.7777777777777778,\"#fb9f3a\"],[0.8888888888888888,\"#fdca26\"],[1.0,\"#f0f921\"]],\"type\":\"heatmap\"}],\"heatmapgl\":[{\"colorbar\":{\"outlinewidth\":0,\"ticks\":\"\"},\"colorscale\":[[0.0,\"#0d0887\"],[0.1111111111111111,\"#46039f\"],[0.2222222222222222,\"#7201a8\"],[0.3333333333333333,\"#9c179e\"],[0.4444444444444444,\"#bd3786\"],[0.5555555555555556,\"#d8576b\"],[0.6666666666666666,\"#ed7953\"],[0.7777777777777778,\"#fb9f3a\"],[0.8888888888888888,\"#fdca26\"],[1.0,\"#f0f921\"]],\"type\":\"heatmapgl\"}],\"histogram\":[{\"marker\":{\"pattern\":{\"fillmode\":\"overlay\",\"size\":10,\"solidity\":0.2}},\"type\":\"histogram\"}],\"histogram2d\":[{\"colorbar\":{\"outlinewidth\":0,\"ticks\":\"\"},\"colorscale\":[[0.0,\"#0d0887\"],[0.1111111111111111,\"#46039f\"],[0.2222222222222222,\"#7201a8\"],[0.3333333333333333,\"#9c179e\"],[0.4444444444444444,\"#bd3786\"],[0.5555555555555556,\"#d8576b\"],[0.6666666666666666,\"#ed7953\"],[0.7777777777777778,\"#fb9f3a\"],[0.8888888888888888,\"#fdca26\"],[1.0,\"#f0f921\"]],\"type\":\"histogram2d\"}],\"histogram2dcontour\":[{\"colorbar\":{\"outlinewidth\":0,\"ticks\":\"\"},\"colorscale\":[[0.0,\"#0d0887\"],[0.1111111111111111,\"#46039f\"],[0.2222222222222222,\"#7201a8\"],[0.3333333333333333,\"#9c179e\"],[0.4444444444444444,\"#bd3786\"],[0.5555555555555556,\"#d8576b\"],[0.6666666666666666,\"#ed7953\"],[0.7777777777777778,\"#fb9f3a\"],[0.8888888888888888,\"#fdca26\"],[1.0,\"#f0f921\"]],\"type\":\"histogram2dcontour\"}],\"mesh3d\":[{\"colorbar\":{\"outlinewidth\":0,\"ticks\":\"\"},\"type\":\"mesh3d\"}],\"parcoords\":[{\"line\":{\"colorbar\":{\"outlinewidth\":0,\"ticks\":\"\"}},\"type\":\"parcoords\"}],\"pie\":[{\"automargin\":true,\"type\":\"pie\"}],\"scatter\":[{\"marker\":{\"colorbar\":{\"outlinewidth\":0,\"ticks\":\"\"}},\"type\":\"scatter\"}],\"scatter3d\":[{\"line\":{\"colorbar\":{\"outlinewidth\":0,\"ticks\":\"\"}},\"marker\":{\"colorbar\":{\"outlinewidth\":0,\"ticks\":\"\"}},\"type\":\"scatter3d\"}],\"scattercarpet\":[{\"marker\":{\"colorbar\":{\"outlinewidth\":0,\"ticks\":\"\"}},\"type\":\"scattercarpet\"}],\"scattergeo\":[{\"marker\":{\"colorbar\":{\"outlinewidth\":0,\"ticks\":\"\"}},\"type\":\"scattergeo\"}],\"scattergl\":[{\"marker\":{\"colorbar\":{\"outlinewidth\":0,\"ticks\":\"\"}},\"type\":\"scattergl\"}],\"scattermapbox\":[{\"marker\":{\"colorbar\":{\"outlinewidth\":0,\"ticks\":\"\"}},\"type\":\"scattermapbox\"}],\"scatterpolar\":[{\"marker\":{\"colorbar\":{\"outlinewidth\":0,\"ticks\":\"\"}},\"type\":\"scatterpolar\"}],\"scatterpolargl\":[{\"marker\":{\"colorbar\":{\"outlinewidth\":0,\"ticks\":\"\"}},\"type\":\"scatterpolargl\"}],\"scatterternary\":[{\"marker\":{\"colorbar\":{\"outlinewidth\":0,\"ticks\":\"\"}},\"type\":\"scatterternary\"}],\"surface\":[{\"colorbar\":{\"outlinewidth\":0,\"ticks\":\"\"},\"colorscale\":[[0.0,\"#0d0887\"],[0.1111111111111111,\"#46039f\"],[0.2222222222222222,\"#7201a8\"],[0.3333333333333333,\"#9c179e\"],[0.4444444444444444,\"#bd3786\"],[0.5555555555555556,\"#d8576b\"],[0.6666666666666666,\"#ed7953\"],[0.7777777777777778,\"#fb9f3a\"],[0.8888888888888888,\"#fdca26\"],[1.0,\"#f0f921\"]],\"type\":\"surface\"}],\"table\":[{\"cells\":{\"fill\":{\"color\":\"#EBF0F8\"},\"line\":{\"color\":\"white\"}},\"header\":{\"fill\":{\"color\":\"#C8D4E3\"},\"line\":{\"color\":\"white\"}},\"type\":\"table\"}]},\"layout\":{\"annotationdefaults\":{\"arrowcolor\":\"#2a3f5f\",\"arrowhead\":0,\"arrowwidth\":1},\"autotypenumbers\":\"strict\",\"coloraxis\":{\"colorbar\":{\"outlinewidth\":0,\"ticks\":\"\"}},\"colorscale\":{\"diverging\":[[0,\"#8e0152\"],[0.1,\"#c51b7d\"],[0.2,\"#de77ae\"],[0.3,\"#f1b6da\"],[0.4,\"#fde0ef\"],[0.5,\"#f7f7f7\"],[0.6,\"#e6f5d0\"],[0.7,\"#b8e186\"],[0.8,\"#7fbc41\"],[0.9,\"#4d9221\"],[1,\"#276419\"]],\"sequential\":[[0.0,\"#0d0887\"],[0.1111111111111111,\"#46039f\"],[0.2222222222222222,\"#7201a8\"],[0.3333333333333333,\"#9c179e\"],[0.4444444444444444,\"#bd3786\"],[0.5555555555555556,\"#d8576b\"],[0.6666666666666666,\"#ed7953\"],[0.7777777777777778,\"#fb9f3a\"],[0.8888888888888888,\"#fdca26\"],[1.0,\"#f0f921\"]],\"sequentialminus\":[[0.0,\"#0d0887\"],[0.1111111111111111,\"#46039f\"],[0.2222222222222222,\"#7201a8\"],[0.3333333333333333,\"#9c179e\"],[0.4444444444444444,\"#bd3786\"],[0.5555555555555556,\"#d8576b\"],[0.6666666666666666,\"#ed7953\"],[0.7777777777777778,\"#fb9f3a\"],[0.8888888888888888,\"#fdca26\"],[1.0,\"#f0f921\"]]},\"colorway\":[\"#636efa\",\"#EF553B\",\"#00cc96\",\"#ab63fa\",\"#FFA15A\",\"#19d3f3\",\"#FF6692\",\"#B6E880\",\"#FF97FF\",\"#FECB52\"],\"font\":{\"color\":\"#2a3f5f\"},\"geo\":{\"bgcolor\":\"white\",\"lakecolor\":\"white\",\"landcolor\":\"#E5ECF6\",\"showlakes\":true,\"showland\":true,\"subunitcolor\":\"white\"},\"hoverlabel\":{\"align\":\"left\"},\"hovermode\":\"closest\",\"mapbox\":{\"style\":\"light\"},\"paper_bgcolor\":\"white\",\"plot_bgcolor\":\"#E5ECF6\",\"polar\":{\"angularaxis\":{\"gridcolor\":\"white\",\"linecolor\":\"white\",\"ticks\":\"\"},\"bgcolor\":\"#E5ECF6\",\"radialaxis\":{\"gridcolor\":\"white\",\"linecolor\":\"white\",\"ticks\":\"\"}},\"scene\":{\"xaxis\":{\"backgroundcolor\":\"#E5ECF6\",\"gridcolor\":\"white\",\"gridwidth\":2,\"linecolor\":\"white\",\"showbackground\":true,\"ticks\":\"\",\"zerolinecolor\":\"white\"},\"yaxis\":{\"backgroundcolor\":\"#E5ECF6\",\"gridcolor\":\"white\",\"gridwidth\":2,\"linecolor\":\"white\",\"showbackground\":true,\"ticks\":\"\",\"zerolinecolor\":\"white\"},\"zaxis\":{\"backgroundcolor\":\"#E5ECF6\",\"gridcolor\":\"white\",\"gridwidth\":2,\"linecolor\":\"white\",\"showbackground\":true,\"ticks\":\"\",\"zerolinecolor\":\"white\"}},\"shapedefaults\":{\"line\":{\"color\":\"#2a3f5f\"}},\"ternary\":{\"aaxis\":{\"gridcolor\":\"white\",\"linecolor\":\"white\",\"ticks\":\"\"},\"baxis\":{\"gridcolor\":\"white\",\"linecolor\":\"white\",\"ticks\":\"\"},\"bgcolor\":\"#E5ECF6\",\"caxis\":{\"gridcolor\":\"white\",\"linecolor\":\"white\",\"ticks\":\"\"}},\"title\":{\"x\":0.05},\"xaxis\":{\"automargin\":true,\"gridcolor\":\"white\",\"linecolor\":\"white\",\"ticks\":\"\",\"title\":{\"standoff\":15},\"zerolinecolor\":\"white\",\"zerolinewidth\":2},\"yaxis\":{\"automargin\":true,\"gridcolor\":\"white\",\"linecolor\":\"white\",\"ticks\":\"\",\"title\":{\"standoff\":15},\"zerolinecolor\":\"white\",\"zerolinewidth\":2}}},\"legend\":{\"tracegroupgap\":0},\"title\":{\"text\":\"\\u0420\\u0430\\u0441\\u043f\\u0440\\u0435\\u0434\\u0435\\u043b\\u0435\\u043d\\u0438\\u0435 \\u043f\\u043e\\u043b\\u0430 \\u0432 \\u0434\\u0430\\u0442\\u0430\\u0441\\u0435\\u0442\\u0435 \\u0412\\u0441\\u0435\\u0433\\u043e 63\"}},                        {\"responsive\": true}                    ).then(function(){\n",
              "                            \n",
              "var gd = document.getElementById('2e4d754d-eb78-48bb-8ccc-0b700fc2dfa8');\n",
              "var x = new MutationObserver(function (mutations, observer) {{\n",
              "        var display = window.getComputedStyle(gd).display;\n",
              "        if (!display || display === 'none') {{\n",
              "            console.log([gd, 'removed!']);\n",
              "            Plotly.purge(gd);\n",
              "            observer.disconnect();\n",
              "        }}\n",
              "}});\n",
              "\n",
              "// Listen for the removal of the full notebook cells\n",
              "var notebookContainer = gd.closest('#notebook-container');\n",
              "if (notebookContainer) {{\n",
              "    x.observe(notebookContainer, {childList: true});\n",
              "}}\n",
              "\n",
              "// Listen for the clearing of the current output cell\n",
              "var outputEl = gd.closest('.output');\n",
              "if (outputEl) {{\n",
              "    x.observe(outputEl, {childList: true});\n",
              "}}\n",
              "\n",
              "                        })                };                            </script>        </div>\n",
              "</body>\n",
              "</html>"
            ]
          },
          "metadata": {}
        }
      ]
    },
    {
      "cell_type": "code",
      "source": [
        "img = Image.open('/content/Project_NLP/Images/genders.png',mode='r')\n",
        "img"
      ],
      "metadata": {
        "id": "DkweByec09fn",
        "colab": {
          "base_uri": "https://localhost:8080/",
          "height": 542
        },
        "outputId": "681046d1-d642-4354-e17e-2d4bdcab29b1"
      },
      "execution_count": 70,
      "outputs": [
        {
          "output_type": "execute_result",
          "data": {
            "text/plain": [
              "<PIL.PngImagePlugin.PngImageFile image mode=RGBA size=1492x525 at 0x7F4EA4820310>"
            ],
            "image/png": "[encoded data removed]"
          },
          "metadata": {},
          "execution_count": 70
        }
      ]
    }
  ]
}