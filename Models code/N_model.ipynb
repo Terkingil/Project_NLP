{
  "nbformat": 4,
  "nbformat_minor": 0,
  "metadata": {
    "colab": {
      "provenance": []
    },
    "kernelspec": {
      "name": "python3",
      "display_name": "Python 3"
    },
    "language_info": {
      "name": "python"
    }
  },
  "cells": [
    {
      "cell_type": "markdown",
      "source": [
        "Данная сеть  использует датасет созданный скурпулезно вручную и с простой сетью - исрользующую RNN. С этой сети я начал знакомиться с нейроными сетями."
      ],
      "metadata": {
        "id": "K7LqnMyfEm8m"
      }
    },
    {
      "cell_type": "code",
      "execution_count": 1,
      "metadata": {
        "id": "_Eze8JBUh8qJ"
      },
      "outputs": [],
      "source": [
        "import re\n",
        "\n",
        "from collections import Counter\n",
        "\n",
        "import numpy as np\n",
        "import pandas as pd\n",
        "from tensorflow.keras.preprocessing.text import Tokenizer\n",
        "from tensorflow.keras.models import Sequential\n",
        "from tensorflow.keras.layers import Embedding, Dense, SimpleRNN, Input, GRU, LSTM\n",
        "\n",
        "\n",
        "from keras_preprocessing.sequence import pad_sequences\n",
        "\n",
        "from sklearn.model_selection import train_test_split"
      ]
    },
    {
      "cell_type": "markdown",
      "source": [
        "# Работаем с датаестом"
      ],
      "metadata": {
        "id": "azdrhpunkqeG"
      }
    },
    {
      "cell_type": "code",
      "source": [
        "data=pd.read_csv(\"https://raw.githubusercontent.com/Terkingil/Project_NLP/main/Models%20weights%20n%20data/Name%20model%20weights/Name%20or%20abra.csv\")\n",
        "display(data)"
      ],
      "metadata": {
        "colab": {
          "base_uri": "https://localhost:8080/",
          "height": 424
        },
        "id": "svio0CNgiEI0",
        "outputId": "dead0a60-455d-4155-e7c4-c2cce3a9cedf"
      },
      "execution_count": 3,
      "outputs": [
        {
          "output_type": "display_data",
          "data": {
            "text/plain": [
              "         Name  Abra\n",
              "0       Damir   1.0\n",
              "1     Maryana   1.0\n",
              "2       Roman   1.0\n",
              "3      Kirill   1.0\n",
              "4        Egor   1.0\n",
              "..        ...   ...\n",
              "195    Filipp   1.0\n",
              "196   Yuliana   1.0\n",
              "197  Veronika   1.0\n",
              "198      adad   0.0\n",
              "199     Pyotr   1.0\n",
              "\n",
              "[200 rows x 2 columns]"
            ],
            "text/html": [
              "\n",
              "  <div id=\"df-bf9c7f58-524d-4986-bafe-271d93812f98\">\n",
              "    <div class=\"colab-df-container\">\n",
              "      <div>\n",
              "<style scoped>\n",
              "    .dataframe tbody tr th:only-of-type {\n",
              "        vertical-align: middle;\n",
              "    }\n",
              "\n",
              "    .dataframe tbody tr th {\n",
              "        vertical-align: top;\n",
              "    }\n",
              "\n",
              "    .dataframe thead th {\n",
              "        text-align: right;\n",
              "    }\n",
              "</style>\n",
              "<table border=\"1\" class=\"dataframe\">\n",
              "  <thead>\n",
              "    <tr style=\"text-align: right;\">\n",
              "      <th></th>\n",
              "      <th>Name</th>\n",
              "      <th>Abra</th>\n",
              "    </tr>\n",
              "  </thead>\n",
              "  <tbody>\n",
              "    <tr>\n",
              "      <th>0</th>\n",
              "      <td>Damir</td>\n",
              "      <td>1.0</td>\n",
              "    </tr>\n",
              "    <tr>\n",
              "      <th>1</th>\n",
              "      <td>Maryana</td>\n",
              "      <td>1.0</td>\n",
              "    </tr>\n",
              "    <tr>\n",
              "      <th>2</th>\n",
              "      <td>Roman</td>\n",
              "      <td>1.0</td>\n",
              "    </tr>\n",
              "    <tr>\n",
              "      <th>3</th>\n",
              "      <td>Kirill</td>\n",
              "      <td>1.0</td>\n",
              "    </tr>\n",
              "    <tr>\n",
              "      <th>4</th>\n",
              "      <td>Egor</td>\n",
              "      <td>1.0</td>\n",
              "    </tr>\n",
              "    <tr>\n",
              "      <th>...</th>\n",
              "      <td>...</td>\n",
              "      <td>...</td>\n",
              "    </tr>\n",
              "    <tr>\n",
              "      <th>195</th>\n",
              "      <td>Filipp</td>\n",
              "      <td>1.0</td>\n",
              "    </tr>\n",
              "    <tr>\n",
              "      <th>196</th>\n",
              "      <td>Yuliana</td>\n",
              "      <td>1.0</td>\n",
              "    </tr>\n",
              "    <tr>\n",
              "      <th>197</th>\n",
              "      <td>Veronika</td>\n",
              "      <td>1.0</td>\n",
              "    </tr>\n",
              "    <tr>\n",
              "      <th>198</th>\n",
              "      <td>adad</td>\n",
              "      <td>0.0</td>\n",
              "    </tr>\n",
              "    <tr>\n",
              "      <th>199</th>\n",
              "      <td>Pyotr</td>\n",
              "      <td>1.0</td>\n",
              "    </tr>\n",
              "  </tbody>\n",
              "</table>\n",
              "<p>200 rows × 2 columns</p>\n",
              "</div>\n",
              "      <button class=\"colab-df-convert\" onclick=\"convertToInteractive('df-bf9c7f58-524d-4986-bafe-271d93812f98')\"\n",
              "              title=\"Convert this dataframe to an interactive table.\"\n",
              "              style=\"display:none;\">\n",
              "        \n",
              "  <svg xmlns=\"http://www.w3.org/2000/svg\" height=\"24px\"viewBox=\"0 0 24 24\"\n",
              "       width=\"24px\">\n",
              "    <path d=\"M0 0h24v24H0V0z\" fill=\"none\"/>\n",
              "    <path d=\"M18.56 5.44l.94 2.06.94-2.06 2.06-.94-2.06-.94-.94-2.06-.94 2.06-2.06.94zm-11 1L8.5 8.5l.94-2.06 2.06-.94-2.06-.94L8.5 2.5l-.94 2.06-2.06.94zm10 10l.94 2.06.94-2.06 2.06-.94-2.06-.94-.94-2.06-.94 2.06-2.06.94z\"/><path d=\"M17.41 7.96l-1.37-1.37c-.4-.4-.92-.59-1.43-.59-.52 0-1.04.2-1.43.59L10.3 9.45l-7.72 7.72c-.78.78-.78 2.05 0 2.83L4 21.41c.39.39.9.59 1.41.59.51 0 1.02-.2 1.41-.59l7.78-7.78 2.81-2.81c.8-.78.8-2.07 0-2.86zM5.41 20L4 18.59l7.72-7.72 1.47 1.35L5.41 20z\"/>\n",
              "  </svg>\n",
              "      </button>\n",
              "      \n",
              "  <style>\n",
              "    .colab-df-container {\n",
              "      display:flex;\n",
              "      flex-wrap:wrap;\n",
              "      gap: 12px;\n",
              "    }\n",
              "\n",
              "    .colab-df-convert {\n",
              "      background-color: #E8F0FE;\n",
              "      border: none;\n",
              "      border-radius: 50%;\n",
              "      cursor: pointer;\n",
              "      display: none;\n",
              "      fill: #1967D2;\n",
              "      height: 32px;\n",
              "      padding: 0 0 0 0;\n",
              "      width: 32px;\n",
              "    }\n",
              "\n",
              "    .colab-df-convert:hover {\n",
              "      background-color: #E2EBFA;\n",
              "      box-shadow: 0px 1px 2px rgba(60, 64, 67, 0.3), 0px 1px 3px 1px rgba(60, 64, 67, 0.15);\n",
              "      fill: #174EA6;\n",
              "    }\n",
              "\n",
              "    [theme=dark] .colab-df-convert {\n",
              "      background-color: #3B4455;\n",
              "      fill: #D2E3FC;\n",
              "    }\n",
              "\n",
              "    [theme=dark] .colab-df-convert:hover {\n",
              "      background-color: #434B5C;\n",
              "      box-shadow: 0px 1px 3px 1px rgba(0, 0, 0, 0.15);\n",
              "      filter: drop-shadow(0px 1px 2px rgba(0, 0, 0, 0.3));\n",
              "      fill: #FFFFFF;\n",
              "    }\n",
              "  </style>\n",
              "\n",
              "      <script>\n",
              "        const buttonEl =\n",
              "          document.querySelector('#df-bf9c7f58-524d-4986-bafe-271d93812f98 button.colab-df-convert');\n",
              "        buttonEl.style.display =\n",
              "          google.colab.kernel.accessAllowed ? 'block' : 'none';\n",
              "\n",
              "        async function convertToInteractive(key) {\n",
              "          const element = document.querySelector('#df-bf9c7f58-524d-4986-bafe-271d93812f98');\n",
              "          const dataTable =\n",
              "            await google.colab.kernel.invokeFunction('convertToInteractive',\n",
              "                                                     [key], {});\n",
              "          if (!dataTable) return;\n",
              "\n",
              "          const docLinkHtml = 'Like what you see? Visit the ' +\n",
              "            '<a target=\"_blank\" href=https://colab.research.google.com/notebooks/data_table.ipynb>data table notebook</a>'\n",
              "            + ' to learn more about interactive tables.';\n",
              "          element.innerHTML = '';\n",
              "          dataTable['output_type'] = 'display_data';\n",
              "          await google.colab.output.renderOutput(dataTable, element);\n",
              "          const docLink = document.createElement('div');\n",
              "          docLink.innerHTML = docLinkHtml;\n",
              "          element.appendChild(docLink);\n",
              "        }\n",
              "      </script>\n",
              "    </div>\n",
              "  </div>\n",
              "  "
            ]
          },
          "metadata": {}
        }
      ]
    },
    {
      "cell_type": "code",
      "source": [
        "cdt_N=np.array(data.iloc[:,0])"
      ],
      "metadata": {
        "id": "ex7x9Z1ZiHbV"
      },
      "execution_count": 4,
      "outputs": []
    },
    {
      "cell_type": "markdown",
      "source": [
        "Создание токенов"
      ],
      "metadata": {
        "id": "8w117TmTkv4c"
      }
    },
    {
      "cell_type": "code",
      "source": [
        "#tokenize\n",
        "\n",
        "num_char = 63\n",
        "n_tokenizer=Tokenizer(num_words=num_char, lower=False,char_level=True,filters=\"'!#$%&()*+,./:;<=>?@[\\\\]^_`{|}~\\t\\n'\")\n",
        "n_tokenizer.fit_on_texts(cdt_N)\n",
        "print(n_tokenizer.word_index)\n",
        "\n",
        "inp_chars = 3\n",
        "one_hot_enc=n_tokenizer.texts_to_sequences(cdt_N)\n"
      ],
      "metadata": {
        "colab": {
          "base_uri": "https://localhost:8080/"
        },
        "id": "bCS0A3h2iI7I",
        "outputId": "d7eb757d-b309-46c2-d0eb-0d93111e9bdd"
      },
      "execution_count": 5,
      "outputs": [
        {
          "output_type": "stream",
          "name": "stdout",
          "text": [
            "{'a': 1, 'i': 2, 's': 3, 'o': 4, 'd': 5, 'k': 6, 'r': 7, 'l': 8, 'p': 9, 'e': 10, 'n': 11, 'A': 12, 'j': 13, 'f': 14, 'y': 15, 't': 16, 'm': 17, 'S': 18, 'q': 19, 'v': 20, 'u': 21, '[': 22, 'D': 23, '3': 24, 'M': 25, '2': 26, 'V': 27, 'z': 28, 'g': 29, '1': 30, 'w': 31, 'E': 32, ';': 33, 'h': 34, 'K': 35, 'P': 36, '4': 37, \"'\": 38, 'U': 39, 'N': 40, 'I': 41, 'O': 42, 'L': 43, 'B': 44, 'x': 45, '/': 46, 'T': 47, 'Y': 48, 'R': 49, 'b': 50, 'J': 51, 'F': 52, 'W': 53, 'G': 54, ' ': 55, 'H': 56, 'Z': 57, '\\\\': 58, 'c': 59, '9': 60}\n"
          ]
        }
      ]
    },
    {
      "cell_type": "markdown",
      "source": [
        "Паддинг"
      ],
      "metadata": {
        "id": "6w_z_K-Mk469"
      }
    },
    {
      "cell_type": "code",
      "source": [
        "print(one_hot_enc[2])\n",
        "\n",
        "\n",
        "\n",
        "train_pded=pad_sequences(one_hot_enc, padding=\"post\", truncating=\"post\", maxlen=15)\n",
        "\n",
        "print(train_pded[2])"
      ],
      "metadata": {
        "colab": {
          "base_uri": "https://localhost:8080/"
        },
        "id": "sepTCbjsiKPK",
        "outputId": "01ce1812-231b-4225-98bb-2bfd0c244b8c"
      },
      "execution_count": 8,
      "outputs": [
        {
          "output_type": "stream",
          "name": "stdout",
          "text": [
            "[49, 4, 17, 1, 11]\n",
            "[49  4 17  1 11  0  0  0  0  0  0  0  0  0  0]\n"
          ]
        }
      ]
    },
    {
      "cell_type": "markdown",
      "source": [
        "Создание samples"
      ],
      "metadata": {
        "id": "wRaKOB7Yk8mV"
      }
    },
    {
      "cell_type": "code",
      "source": [
        "\n",
        "X=train_pded\n",
        "y=np.array(data.iloc[:,1])\n",
        "\n",
        "\n",
        "X_train, X_test, y_train, y_test = train_test_split(X, y, test_size=0.1, random_state=21) # Выборка небольшая поэтому 10% от выборки на тест\n",
        "\n",
        "X_train.shape,y_train.shape\n"
      ],
      "metadata": {
        "colab": {
          "base_uri": "https://localhost:8080/"
        },
        "id": "Qf8FhyvtiMFr",
        "outputId": "da6361c4-30f4-49f0-ca69-f7c77bd8056d"
      },
      "execution_count": 9,
      "outputs": [
        {
          "output_type": "execute_result",
          "data": {
            "text/plain": [
              "((180, 15), (180,))"
            ]
          },
          "metadata": {},
          "execution_count": 9
        }
      ]
    },
    {
      "cell_type": "markdown",
      "source": [
        "# Модель"
      ],
      "metadata": {
        "id": "FI3DqZ6ak_3w"
      }
    },
    {
      "cell_type": "code",
      "source": [
        "#model\n",
        "\n",
        "Name_model=Sequential()\n",
        "Name_model.add(Embedding(63,15,input_length=15))\n",
        "Name_model.add(SimpleRNN(100, activation='tanh'))\n",
        "Name_model.add(Dense(1, activation='sigmoid'))#Полносвязный слой\n",
        "Name_model.summary()\n",
        "\n",
        "Name_model.compile(loss='binary_crossentropy', metrics=[\"AUC\"])"
      ],
      "metadata": {
        "colab": {
          "base_uri": "https://localhost:8080/"
        },
        "id": "EyCaSv7PiOG_",
        "outputId": "30a29bae-6e65-4c73-b604-26ebf69eb4b5"
      },
      "execution_count": 19,
      "outputs": [
        {
          "output_type": "stream",
          "name": "stdout",
          "text": [
            "Model: \"sequential_5\"\n",
            "_________________________________________________________________\n",
            " Layer (type)                Output Shape              Param #   \n",
            "=================================================================\n",
            " embedding_5 (Embedding)     (None, 15, 15)            945       \n",
            "                                                                 \n",
            " simple_rnn_5 (SimpleRNN)    (None, 100)               11600     \n",
            "                                                                 \n",
            " dense_5 (Dense)             (None, 1)                 101       \n",
            "                                                                 \n",
            "=================================================================\n",
            "Total params: 12,646\n",
            "Trainable params: 12,646\n",
            "Non-trainable params: 0\n",
            "_________________________________________________________________\n"
          ]
        }
      ]
    },
    {
      "cell_type": "code",
      "source": [
        "history=Name_model.fit(X_train,y_train,batch_size=5,epochs=9,validation_data=(X_test,y_test))"
      ],
      "metadata": {
        "colab": {
          "base_uri": "https://localhost:8080/"
        },
        "id": "bNI2to3Nkd2C",
        "outputId": "ef82e901-cda5-4928-b060-a189cffb73d7"
      },
      "execution_count": 20,
      "outputs": [
        {
          "output_type": "stream",
          "name": "stdout",
          "text": [
            "Epoch 1/9\n",
            "36/36 [==============================] - 2s 15ms/step - loss: 0.5123 - auc: 0.8247 - val_loss: 0.4882 - val_auc: 0.8535\n",
            "Epoch 2/9\n",
            "36/36 [==============================] - 0s 5ms/step - loss: 0.1819 - auc: 0.9781 - val_loss: 0.3252 - val_auc: 0.9394\n",
            "Epoch 3/9\n",
            "36/36 [==============================] - 0s 5ms/step - loss: 0.0923 - auc: 0.9963 - val_loss: 0.3796 - val_auc: 0.9192\n",
            "Epoch 4/9\n",
            "36/36 [==============================] - 0s 5ms/step - loss: 0.0539 - auc: 0.9983 - val_loss: 0.3815 - val_auc: 0.9495\n",
            "Epoch 5/9\n",
            "36/36 [==============================] - 0s 5ms/step - loss: 0.0209 - auc: 1.0000 - val_loss: 0.4743 - val_auc: 0.9141\n",
            "Epoch 6/9\n",
            "36/36 [==============================] - 0s 5ms/step - loss: 0.0356 - auc: 0.9995 - val_loss: 0.4433 - val_auc: 0.9242\n",
            "Epoch 7/9\n",
            "36/36 [==============================] - 0s 5ms/step - loss: 0.0027 - auc: 1.0000 - val_loss: 0.5572 - val_auc: 0.9242\n",
            "Epoch 8/9\n",
            "36/36 [==============================] - 0s 5ms/step - loss: 9.0473e-04 - auc: 1.0000 - val_loss: 0.6383 - val_auc: 0.8838\n",
            "Epoch 9/9\n",
            "36/36 [==============================] - 0s 5ms/step - loss: 0.0057 - auc: 1.0000 - val_loss: 0.4926 - val_auc: 0.9798\n"
          ]
        }
      ]
    },
    {
      "cell_type": "code",
      "source": [
        "#Name_model.save_weights('./N_model/N_weights')"
      ],
      "metadata": {
        "id": "1nJ8UiVs7kFK"
      },
      "execution_count": 23,
      "outputs": []
    },
    {
      "cell_type": "markdown",
      "source": [
        "# Проверка ручным вводом"
      ],
      "metadata": {
        "id": "cJ9Qmk2CluFt"
      }
    },
    {
      "cell_type": "code",
      "source": [
        "a=\"Andrey\"\n",
        "inp=[a]\n",
        "\n",
        "inp_sname_tkzd=n_tokenizer.texts_to_sequences(inp)\n",
        "#print(inp_enc)\n",
        "inp_sname_tkzd_pded=pad_sequences(inp_sname_tkzd, padding=\"post\", truncating=\"post\", maxlen=15)\n",
        "\n",
        "  #print(inp_enc_pded)\n",
        "\n",
        "surname_hyppo = (Name_model.predict(inp_sname_tkzd_pded))\n",
        "\n",
        "surname_hyppo"
      ],
      "metadata": {
        "colab": {
          "base_uri": "https://localhost:8080/"
        },
        "id": "xqBtB31xlsT3",
        "outputId": "92a82907-a36e-4444-a423-2dd4fd7b7e97"
      },
      "execution_count": 26,
      "outputs": [
        {
          "output_type": "stream",
          "name": "stdout",
          "text": [
            "1/1 [==============================] - 0s 171ms/step\n"
          ]
        },
        {
          "output_type": "execute_result",
          "data": {
            "text/plain": [
              "array([[0.9999654]], dtype=float32)"
            ]
          },
          "metadata": {},
          "execution_count": 26
        }
      ]
    }
  ]
}