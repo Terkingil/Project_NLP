{
  "nbformat": 4,
  "nbformat_minor": 0,
  "metadata": {
    "colab": {
      "provenance": []
    },
    "kernelspec": {
      "name": "python3",
      "display_name": "Python 3"
    },
    "language_info": {
      "name": "python"
    }
  },
  "cells": [
    {
      "cell_type": "code",
      "execution_count": 5,
      "metadata": {
        "id": "_Eze8JBUh8qJ"
      },
      "outputs": [],
      "source": [
        "import re\n",
        "\n",
        "from collections import Counter\n",
        "\n",
        "import numpy as np\n",
        "import pandas as pd\n",
        "from tensorflow.keras.preprocessing.text import Tokenizer\n",
        "from tensorflow.keras.models import Sequential\n",
        "from tensorflow.keras.layers import Embedding, Dense, SimpleRNN, Input, GRU, LSTM\n",
        "\n",
        "\n",
        "from keras_preprocessing.sequence import pad_sequences\n",
        "\n",
        "from sklearn.model_selection import train_test_split"
      ]
    },
    {
      "cell_type": "markdown",
      "source": [
        "# Работаем с датаестом"
      ],
      "metadata": {
        "id": "azdrhpunkqeG"
      }
    },
    {
      "cell_type": "code",
      "source": [
        "data=pd.read_csv(\"https://raw.githubusercontent.com/Terkingil/Project_NLP/main/Models%20weights%20n%20data/S_C_model/NE%20or%20abra.csv\")\n",
        "display(data)"
      ],
      "metadata": {
        "colab": {
          "base_uri": "https://localhost:8080/",
          "height": 424
        },
        "id": "svio0CNgiEI0",
        "outputId": "a41afd21-348c-480e-b7b2-3e8c53a2b4dd"
      },
      "execution_count": 3,
      "outputs": [
        {
          "output_type": "display_data",
          "data": {
            "text/plain": [
              "           Name  Label\n",
              "0          erer    0.0\n",
              "1        Moscow    1.0\n",
              "2          13op    0.0\n",
              "3         Ilina    1.0\n",
              "4        Tyumen    1.0\n",
              "..          ...    ...\n",
              "384     Serdyuk    1.0\n",
              "385   Temchenko    1.0\n",
              "386      Hitruk    1.0\n",
              "387  Emelyanova    1.0\n",
              "388     Taranec    1.0\n",
              "\n",
              "[389 rows x 2 columns]"
            ],
            "text/html": [
              "\n",
              "  <div id=\"df-e6fe1423-3a0d-4c0a-8a75-e65f66e0a7ec\">\n",
              "    <div class=\"colab-df-container\">\n",
              "      <div>\n",
              "<style scoped>\n",
              "    .dataframe tbody tr th:only-of-type {\n",
              "        vertical-align: middle;\n",
              "    }\n",
              "\n",
              "    .dataframe tbody tr th {\n",
              "        vertical-align: top;\n",
              "    }\n",
              "\n",
              "    .dataframe thead th {\n",
              "        text-align: right;\n",
              "    }\n",
              "</style>\n",
              "<table border=\"1\" class=\"dataframe\">\n",
              "  <thead>\n",
              "    <tr style=\"text-align: right;\">\n",
              "      <th></th>\n",
              "      <th>Name</th>\n",
              "      <th>Label</th>\n",
              "    </tr>\n",
              "  </thead>\n",
              "  <tbody>\n",
              "    <tr>\n",
              "      <th>0</th>\n",
              "      <td>erer</td>\n",
              "      <td>0.0</td>\n",
              "    </tr>\n",
              "    <tr>\n",
              "      <th>1</th>\n",
              "      <td>Moscow</td>\n",
              "      <td>1.0</td>\n",
              "    </tr>\n",
              "    <tr>\n",
              "      <th>2</th>\n",
              "      <td>13op</td>\n",
              "      <td>0.0</td>\n",
              "    </tr>\n",
              "    <tr>\n",
              "      <th>3</th>\n",
              "      <td>Ilina</td>\n",
              "      <td>1.0</td>\n",
              "    </tr>\n",
              "    <tr>\n",
              "      <th>4</th>\n",
              "      <td>Tyumen</td>\n",
              "      <td>1.0</td>\n",
              "    </tr>\n",
              "    <tr>\n",
              "      <th>...</th>\n",
              "      <td>...</td>\n",
              "      <td>...</td>\n",
              "    </tr>\n",
              "    <tr>\n",
              "      <th>384</th>\n",
              "      <td>Serdyuk</td>\n",
              "      <td>1.0</td>\n",
              "    </tr>\n",
              "    <tr>\n",
              "      <th>385</th>\n",
              "      <td>Temchenko</td>\n",
              "      <td>1.0</td>\n",
              "    </tr>\n",
              "    <tr>\n",
              "      <th>386</th>\n",
              "      <td>Hitruk</td>\n",
              "      <td>1.0</td>\n",
              "    </tr>\n",
              "    <tr>\n",
              "      <th>387</th>\n",
              "      <td>Emelyanova</td>\n",
              "      <td>1.0</td>\n",
              "    </tr>\n",
              "    <tr>\n",
              "      <th>388</th>\n",
              "      <td>Taranec</td>\n",
              "      <td>1.0</td>\n",
              "    </tr>\n",
              "  </tbody>\n",
              "</table>\n",
              "<p>389 rows × 2 columns</p>\n",
              "</div>\n",
              "      <button class=\"colab-df-convert\" onclick=\"convertToInteractive('df-e6fe1423-3a0d-4c0a-8a75-e65f66e0a7ec')\"\n",
              "              title=\"Convert this dataframe to an interactive table.\"\n",
              "              style=\"display:none;\">\n",
              "        \n",
              "  <svg xmlns=\"http://www.w3.org/2000/svg\" height=\"24px\"viewBox=\"0 0 24 24\"\n",
              "       width=\"24px\">\n",
              "    <path d=\"M0 0h24v24H0V0z\" fill=\"none\"/>\n",
              "    <path d=\"M18.56 5.44l.94 2.06.94-2.06 2.06-.94-2.06-.94-.94-2.06-.94 2.06-2.06.94zm-11 1L8.5 8.5l.94-2.06 2.06-.94-2.06-.94L8.5 2.5l-.94 2.06-2.06.94zm10 10l.94 2.06.94-2.06 2.06-.94-2.06-.94-.94-2.06-.94 2.06-2.06.94z\"/><path d=\"M17.41 7.96l-1.37-1.37c-.4-.4-.92-.59-1.43-.59-.52 0-1.04.2-1.43.59L10.3 9.45l-7.72 7.72c-.78.78-.78 2.05 0 2.83L4 21.41c.39.39.9.59 1.41.59.51 0 1.02-.2 1.41-.59l7.78-7.78 2.81-2.81c.8-.78.8-2.07 0-2.86zM5.41 20L4 18.59l7.72-7.72 1.47 1.35L5.41 20z\"/>\n",
              "  </svg>\n",
              "      </button>\n",
              "      \n",
              "  <style>\n",
              "    .colab-df-container {\n",
              "      display:flex;\n",
              "      flex-wrap:wrap;\n",
              "      gap: 12px;\n",
              "    }\n",
              "\n",
              "    .colab-df-convert {\n",
              "      background-color: #E8F0FE;\n",
              "      border: none;\n",
              "      border-radius: 50%;\n",
              "      cursor: pointer;\n",
              "      display: none;\n",
              "      fill: #1967D2;\n",
              "      height: 32px;\n",
              "      padding: 0 0 0 0;\n",
              "      width: 32px;\n",
              "    }\n",
              "\n",
              "    .colab-df-convert:hover {\n",
              "      background-color: #E2EBFA;\n",
              "      box-shadow: 0px 1px 2px rgba(60, 64, 67, 0.3), 0px 1px 3px 1px rgba(60, 64, 67, 0.15);\n",
              "      fill: #174EA6;\n",
              "    }\n",
              "\n",
              "    [theme=dark] .colab-df-convert {\n",
              "      background-color: #3B4455;\n",
              "      fill: #D2E3FC;\n",
              "    }\n",
              "\n",
              "    [theme=dark] .colab-df-convert:hover {\n",
              "      background-color: #434B5C;\n",
              "      box-shadow: 0px 1px 3px 1px rgba(0, 0, 0, 0.15);\n",
              "      filter: drop-shadow(0px 1px 2px rgba(0, 0, 0, 0.3));\n",
              "      fill: #FFFFFF;\n",
              "    }\n",
              "  </style>\n",
              "\n",
              "      <script>\n",
              "        const buttonEl =\n",
              "          document.querySelector('#df-e6fe1423-3a0d-4c0a-8a75-e65f66e0a7ec button.colab-df-convert');\n",
              "        buttonEl.style.display =\n",
              "          google.colab.kernel.accessAllowed ? 'block' : 'none';\n",
              "\n",
              "        async function convertToInteractive(key) {\n",
              "          const element = document.querySelector('#df-e6fe1423-3a0d-4c0a-8a75-e65f66e0a7ec');\n",
              "          const dataTable =\n",
              "            await google.colab.kernel.invokeFunction('convertToInteractive',\n",
              "                                                     [key], {});\n",
              "          if (!dataTable) return;\n",
              "\n",
              "          const docLinkHtml = 'Like what you see? Visit the ' +\n",
              "            '<a target=\"_blank\" href=https://colab.research.google.com/notebooks/data_table.ipynb>data table notebook</a>'\n",
              "            + ' to learn more about interactive tables.';\n",
              "          element.innerHTML = '';\n",
              "          dataTable['output_type'] = 'display_data';\n",
              "          await google.colab.output.renderOutput(dataTable, element);\n",
              "          const docLink = document.createElement('div');\n",
              "          docLink.innerHTML = docLinkHtml;\n",
              "          element.appendChild(docLink);\n",
              "        }\n",
              "      </script>\n",
              "    </div>\n",
              "  </div>\n",
              "  "
            ]
          },
          "metadata": {}
        }
      ]
    },
    {
      "cell_type": "code",
      "source": [
        "cdt=np.array(data.iloc[:,0])"
      ],
      "metadata": {
        "id": "ex7x9Z1ZiHbV"
      },
      "execution_count": 13,
      "outputs": []
    },
    {
      "cell_type": "code",
      "source": [
        "!git clone https://github.com/Terkingil/Project_NLP.git"
      ],
      "metadata": {
        "colab": {
          "base_uri": "https://localhost:8080/"
        },
        "id": "hx8vS1Ae-CuQ",
        "outputId": "48f8a604-0c38-4962-b8a1-ffd5a881580c"
      },
      "execution_count": 7,
      "outputs": [
        {
          "output_type": "stream",
          "name": "stdout",
          "text": [
            "Cloning into 'Project_NLP'...\n",
            "remote: Enumerating objects: 149, done.\u001b[K\n",
            "remote: Counting objects: 100% (83/83), done.\u001b[K\n",
            "remote: Compressing objects: 100% (76/76), done.\u001b[K\n",
            "remote: Total 149 (delta 32), reused 8 (delta 1), pack-reused 66\u001b[K\n",
            "Receiving objects: 100% (149/149), 67.87 MiB | 32.39 MiB/s, done.\n",
            "Resolving deltas: 100% (53/53), done.\n"
          ]
        }
      ]
    },
    {
      "cell_type": "markdown",
      "source": [
        "Создание токенов"
      ],
      "metadata": {
        "id": "8w117TmTkv4c"
      }
    },
    {
      "cell_type": "code",
      "source": [
        "#tokenize\n",
        "\n",
        "num_char = 63 #\n",
        "tokenizer=Tokenizer(num_words=num_char, lower=False,char_level=True,filters=\"'!#$%&()*+,./:;<=>?@[\\\\]^_`{|}~\\t\\n'\")\n",
        "tokenizer.fit_on_texts(cdt)\n",
        "print(tokenizer.word_index)\n",
        "\n",
        "inp_chars = 3\n",
        "one_hot_enc=tokenizer.texts_to_sequences(cdt)\n"
      ],
      "metadata": {
        "colab": {
          "base_uri": "https://localhost:8080/"
        },
        "id": "bCS0A3h2iI7I",
        "outputId": "298fa182-6265-4b8d-f3f9-536695d79d2e"
      },
      "execution_count": 14,
      "outputs": [
        {
          "output_type": "stream",
          "name": "stdout",
          "text": [
            "{'o': 1, 'a': 2, 'e': 3, 'k': 4, 'v': 5, 'r': 6, 'i': 7, 's': 8, 'n': 9, 'd': 10, 'l': 11, 'h': 12, 'u': 13, 't': 14, 'p': 15, 'j': 16, 'S': 17, 'y': 18, 'b': 19, 'm': 20, 'K': 21, 'g': 22, 'A': 23, 'c': 24, 'z': 25, 'P': 26, 'f': 27, 'M': 28, 'T': 29, 'B': 30, 'q': 31, 'N': 32, '[': 33, 'E': 34, 'w': 35, '3': 36, 'L': 37, 'V': 38, '2': 39, 'D': 40, 'G': 41, '1': 42, 'Z': 43, 'U': 44, 'R': 45, 'O': 46, ';': 47, 'F': 48, 'H': 49, 'I': 50, '-': 51, 'Y': 52, '4': 53, \"'\": 54, 'C': 55, ' ': 56, '/': 57, 'x': 58, 'J': 59, '.': 60, 'W': 61, '\\\\': 62, '9': 63}\n"
          ]
        }
      ]
    },
    {
      "cell_type": "markdown",
      "source": [
        "Паддинг"
      ],
      "metadata": {
        "id": "6w_z_K-Mk469"
      }
    },
    {
      "cell_type": "code",
      "source": [
        "print(cdt[2])\n",
        "print(one_hot_enc[2])\n",
        "\n",
        "\n",
        "\n",
        "train_pded=pad_sequences(one_hot_enc, padding=\"post\", truncating=\"post\", maxlen=15)\n",
        "\n",
        "print(train_pded[2])"
      ],
      "metadata": {
        "colab": {
          "base_uri": "https://localhost:8080/"
        },
        "id": "sepTCbjsiKPK",
        "outputId": "23bd1225-26ca-44e6-e688-6fde9796bcf3"
      },
      "execution_count": null,
      "outputs": [
        {
          "output_type": "stream",
          "name": "stdout",
          "text": [
            "13op\n",
            "[42, 36, 1, 15]\n",
            "[42 36  1 15  0  0  0  0  0  0  0  0  0  0  0]\n"
          ]
        }
      ]
    },
    {
      "cell_type": "markdown",
      "source": [
        "Создание samples"
      ],
      "metadata": {
        "id": "wRaKOB7Yk8mV"
      }
    },
    {
      "cell_type": "code",
      "source": [
        "\n",
        "X=train_pded\n",
        "y=np.array(data.iloc[:,1])\n",
        "\n",
        "\n",
        "X_train, X_test, y_train, y_test = train_test_split(X, y, test_size=0.1, random_state=21) # Выборка небольшая поэтому 10% от выборки на тест\n",
        "\n",
        "X_train.shape,y_train.shape\n"
      ],
      "metadata": {
        "colab": {
          "base_uri": "https://localhost:8080/"
        },
        "id": "Qf8FhyvtiMFr",
        "outputId": "8c62b570-2291-4c38-c412-11e8fa97d2e7"
      },
      "execution_count": null,
      "outputs": [
        {
          "output_type": "execute_result",
          "data": {
            "text/plain": [
              "((350, 15), (350,))"
            ]
          },
          "metadata": {},
          "execution_count": 92
        }
      ]
    },
    {
      "cell_type": "markdown",
      "source": [
        "# Модель"
      ],
      "metadata": {
        "id": "FI3DqZ6ak_3w"
      }
    },
    {
      "cell_type": "code",
      "source": [
        "S_C_model=Sequential()\n",
        "S_C_model.add(Embedding(63,15,input_length=15))\n",
        "S_C_model.add(GRU(500, activation='tanh'))\n",
        "S_C_model.add(Dense(1, activation='sigmoid'))#Полносвязный слой\n",
        "S_C_model.summary()\n",
        "\n",
        "S_C_model.compile(loss='binary_crossentropy', metrics=[\"AUC\"])"
      ],
      "metadata": {
        "colab": {
          "base_uri": "https://localhost:8080/"
        },
        "id": "EyCaSv7PiOG_",
        "outputId": "d5f13dc8-9877-48a7-e558-70bb07455a73"
      },
      "execution_count": 6,
      "outputs": [
        {
          "output_type": "stream",
          "name": "stdout",
          "text": [
            "Model: \"sequential\"\n",
            "_________________________________________________________________\n",
            " Layer (type)                Output Shape              Param #   \n",
            "=================================================================\n",
            " embedding (Embedding)       (None, 15, 15)            945       \n",
            "                                                                 \n",
            " gru (GRU)                   (None, 500)               775500    \n",
            "                                                                 \n",
            " dense (Dense)               (None, 1)                 501       \n",
            "                                                                 \n",
            "=================================================================\n",
            "Total params: 776,946\n",
            "Trainable params: 776,946\n",
            "Non-trainable params: 0\n",
            "_________________________________________________________________\n"
          ]
        }
      ]
    },
    {
      "cell_type": "code",
      "source": [
        "history=S_C_model.fit(X_train,y_train,batch_size=5,epochs=20,validation_data=(X_test,y_test))"
      ],
      "metadata": {
        "colab": {
          "base_uri": "https://localhost:8080/"
        },
        "id": "bNI2to3Nkd2C",
        "outputId": "0cf7a79e-3b0d-4a6e-a1af-a14ca58746cc"
      },
      "execution_count": null,
      "outputs": [
        {
          "output_type": "stream",
          "name": "stdout",
          "text": [
            "Epoch 1/20\n",
            "70/70 [==============================] - 7s 78ms/step - loss: 0.6559 - auc: 0.4937 - val_loss: 0.5703 - val_auc: 0.9954\n",
            "Epoch 2/20\n",
            "70/70 [==============================] - 6s 80ms/step - loss: 0.3470 - auc: 0.8898 - val_loss: 0.2004 - val_auc: 0.9815\n",
            "Epoch 3/20\n",
            "70/70 [==============================] - 5s 69ms/step - loss: 0.2131 - auc: 0.9425 - val_loss: 0.2073 - val_auc: 0.9815\n",
            "Epoch 4/20\n",
            "70/70 [==============================] - 5s 68ms/step - loss: 0.1896 - auc: 0.9527 - val_loss: 0.2811 - val_auc: 0.9722\n",
            "Epoch 5/20\n",
            "70/70 [==============================] - 5s 69ms/step - loss: 0.1445 - auc: 0.9646 - val_loss: 0.5297 - val_auc: 0.9738\n",
            "Epoch 6/20\n",
            "70/70 [==============================] - 5s 67ms/step - loss: 0.1380 - auc: 0.9749 - val_loss: 0.4610 - val_auc: 0.9738\n",
            "Epoch 7/20\n",
            "70/70 [==============================] - 5s 69ms/step - loss: 0.1312 - auc: 0.9778 - val_loss: 0.3549 - val_auc: 0.9738\n",
            "Epoch 8/20\n",
            "70/70 [==============================] - 5s 68ms/step - loss: 0.1048 - auc: 0.9868 - val_loss: 0.3444 - val_auc: 0.9738\n",
            "Epoch 9/20\n",
            "70/70 [==============================] - 5s 68ms/step - loss: 0.2023 - auc: 0.9728 - val_loss: 0.1960 - val_auc: 0.9738\n",
            "Epoch 10/20\n",
            "70/70 [==============================] - 5s 70ms/step - loss: 0.1105 - auc: 0.9849 - val_loss: 0.3646 - val_auc: 0.9722\n",
            "Epoch 11/20\n",
            "70/70 [==============================] - 5s 68ms/step - loss: 0.1030 - auc: 0.9863 - val_loss: 0.3489 - val_auc: 0.9769\n",
            "Epoch 12/20\n",
            "70/70 [==============================] - 5s 69ms/step - loss: 0.1004 - auc: 0.9898 - val_loss: 0.4586 - val_auc: 0.9769\n",
            "Epoch 13/20\n",
            "70/70 [==============================] - 5s 71ms/step - loss: 0.0834 - auc: 0.9948 - val_loss: 0.7834 - val_auc: 0.9336\n",
            "Epoch 14/20\n",
            "70/70 [==============================] - 5s 70ms/step - loss: 0.1038 - auc: 0.9867 - val_loss: 0.5139 - val_auc: 0.9738\n",
            "Epoch 15/20\n",
            "70/70 [==============================] - 5s 69ms/step - loss: 0.0898 - auc: 0.9924 - val_loss: 0.7763 - val_auc: 0.8951\n",
            "Epoch 16/20\n",
            "70/70 [==============================] - 5s 70ms/step - loss: 0.1009 - auc: 0.9861 - val_loss: 0.4783 - val_auc: 0.9784\n",
            "Epoch 17/20\n",
            "70/70 [==============================] - 5s 68ms/step - loss: 0.0953 - auc: 0.9862 - val_loss: 0.3971 - val_auc: 0.9784\n",
            "Epoch 18/20\n",
            "70/70 [==============================] - 5s 68ms/step - loss: 0.0804 - auc: 0.9898 - val_loss: 0.3962 - val_auc: 0.9738\n",
            "Epoch 19/20\n",
            "70/70 [==============================] - 5s 68ms/step - loss: 0.0884 - auc: 0.9840 - val_loss: 0.5243 - val_auc: 0.9784\n",
            "Epoch 20/20\n",
            "70/70 [==============================] - 5s 68ms/step - loss: 0.0673 - auc: 0.9959 - val_loss: 0.6446 - val_auc: 0.9784\n"
          ]
        }
      ]
    },
    {
      "cell_type": "code",
      "source": [
        "S_C_model.save_weights('./S_C_model/S_C_weights')"
      ],
      "metadata": {
        "colab": {
          "base_uri": "https://localhost:8080/"
        },
        "id": "1nJ8UiVs7kFK",
        "outputId": "ff1cf57e-a515-4293-daa7-1a480a11944b"
      },
      "execution_count": null,
      "outputs": [
        {
          "output_type": "execute_result",
          "data": {
            "text/plain": [
              "<tensorflow.python.training.tracking.util.CheckpointLoadStatus at 0x7f2669b51bd0>"
            ]
          },
          "metadata": {},
          "execution_count": 42
        }
      ]
    },
    {
      "cell_type": "markdown",
      "source": [
        "# Проверка ручным вводом"
      ],
      "metadata": {
        "id": "cJ9Qmk2CluFt"
      }
    },
    {
      "cell_type": "code",
      "source": [
        "S_C_model.load_weights('./Project_NLP/Models weights n data/S_C_model/S_C_weights')"
      ],
      "metadata": {
        "colab": {
          "base_uri": "https://localhost:8080/"
        },
        "id": "THLxaz55Ddyk",
        "outputId": "9ba2c003-c3fb-476b-9c6e-6db56e55bd5e"
      },
      "execution_count": 10,
      "outputs": [
        {
          "output_type": "execute_result",
          "data": {
            "text/plain": [
              "<tensorflow.python.training.tracking.util.CheckpointLoadStatus at 0x7f2282fce090>"
            ]
          },
          "metadata": {},
          "execution_count": 10
        }
      ]
    },
    {
      "cell_type": "code",
      "source": [
        "a=\"St. Petersburg\"\n",
        "inp=[a]\n",
        "\n",
        "inp_sname_tkzd=tokenizer.texts_to_sequences(inp)\n",
        "#print(inp_enc)\n",
        "inp_sname_tkzd_pded=pad_sequences(inp_sname_tkzd, padding=\"post\", truncating=\"post\", maxlen=15)\n",
        "\n",
        "  #print(inp_enc_pded)\n",
        "\n",
        "surname_hyppo = (S_C_model.predict(inp_sname_tkzd_pded))\n",
        "\n",
        "surname_hyppo"
      ],
      "metadata": {
        "colab": {
          "base_uri": "https://localhost:8080/"
        },
        "id": "xqBtB31xlsT3",
        "outputId": "a2d09ffb-3143-4f85-838b-9f77eaf0a781"
      },
      "execution_count": 16,
      "outputs": [
        {
          "output_type": "stream",
          "name": "stdout",
          "text": [
            "1/1 [==============================] - 0s 32ms/step\n"
          ]
        },
        {
          "output_type": "execute_result",
          "data": {
            "text/plain": [
              "array([[0.9984044]], dtype=float32)"
            ]
          },
          "metadata": {},
          "execution_count": 16
        }
      ]
    }
  ]
}